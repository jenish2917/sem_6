{
 "cells": [
  {
   "cell_type": "code",
   "execution_count": null,
   "id": "3fb054a3-ef9a-4e6c-ae64-88f8b89c419b",
   "metadata": {},
   "outputs": [],
   "source": []
  }
 ],
 "metadata": {
  "kernelspec": {
   "display_name": "",
   "name": ""
  },
  "language_info": {
   "name": ""
  }
 },
 "nbformat": 4,
 "nbformat_minor": 5
}
