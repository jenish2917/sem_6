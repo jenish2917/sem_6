{
 "cells": [
  {
   "cell_type": "markdown",
   "id": "031f05ef",
   "metadata": {},
   "source": [
    "# Practical 15: Simple K-Nearest Neighbors (KNN) Algorithm\n"
   ]
  },
  {
   "cell_type": "code",
   "execution_count": 6,
   "id": "fe1dff97",
   "metadata": {},
   "outputs": [],
   "source": [
    "import numpy as np\n",
    "import pandas as pd\n",
    "from collections import Counter\n",
    "from sklearn.datasets import load_iris\n",
    "from sklearn.model_selection import train_test_split\n",
    "from sklearn.preprocessing import StandardScaler\n",
    "from sklearn.neighbors import KNeighborsClassifier\n",
    "from sklearn.metrics import accuracy_score\n",
    "\n",
    "# Fix SSL certificate issues if needed\n",
    "import ssl\n",
    "ssl._create_default_https_context = ssl._create_unverified_context\n",
    "\n",
    "# Avoid warnings\n",
    "import warnings\n",
    "warnings.filterwarnings('ignore')"
   ]
  },
  {
   "cell_type": "code",
   "execution_count": 7,
   "id": "3a45819a",
   "metadata": {},
   "outputs": [],
   "source": [
    "class SimpleKNN:\n",
    "    def __init__(self, k=3):\n",
    "        self.k = k\n",
    "        self.X_train = None\n",
    "        self.y_train = None\n",
    "    \n",
    "    def fit(self, X, y):\n",
    "        \"\"\"Store training data\"\"\"\n",
    "        self.X_train = np.array(X)\n",
    "        self.y_train = np.array(y)\n",
    "        return self\n",
    "    \n",
    "    def predict(self, X):\n",
    "        \"\"\"Make predictions for all samples in X\"\"\"\n",
    "        return np.array([self._predict_single(x) for x in X])\n",
    "    \n",
    "    def _predict_single(self, x):\n",
    "        \"\"\"Predict class for a single sample\"\"\"\n",
    "        # Calculate distances between x and all training samples\n",
    "        distances = [np.sqrt(np.sum((x - x_train)**2)) for x_train in self.X_train]\n",
    "        \n",
    "        # Get indices of k nearest neighbors\n",
    "        k_indices = np.argsort(distances)[:self.k]\n",
    "        \n",
    "        # Get most common class among k neighbors\n",
    "        k_nearest_labels = self.y_train[k_indices]\n",
    "        most_common = Counter(k_nearest_labels).most_common(1)\n",
    "        return most_common[0][0]"
   ]
  },
  {
   "cell_type": "code",
   "execution_count": 8,
   "id": "a93a8b5f",
   "metadata": {},
   "outputs": [
    {
     "name": "stdout",
     "output_type": "stream",
     "text": [
      "Iris Dataset: 150 samples, 4 features\n",
      "Classes: ['setosa' 'versicolor' 'virginica']\n",
      "Features: ['sepal length (cm)', 'sepal width (cm)', 'petal length (cm)', 'petal width (cm)']\n"
     ]
    }
   ],
   "source": [
    "# Load Iris dataset\n",
    "iris = load_iris()\n",
    "X = iris.data\n",
    "y = iris.target\n",
    "\n",
    "# Split data into training and test sets\n",
    "X_train, X_test, y_train, y_test = train_test_split(X, y, test_size=0.3, random_state=42)\n",
    "\n",
    "# Scale features\n",
    "scaler = StandardScaler()\n",
    "X_train_scaled = scaler.fit_transform(X_train)\n",
    "X_test_scaled = scaler.transform(X_test)\n",
    "\n",
    "# Print dataset info\n",
    "print(f\"Iris Dataset: {X.shape[0]} samples, {X.shape[1]} features\")\n",
    "print(f\"Classes: {iris.target_names}\")\n",
    "print(f\"Features: {iris.feature_names}\")"
   ]
  },
  {
   "cell_type": "code",
   "execution_count": 9,
   "id": "14bc5260",
   "metadata": {},
   "outputs": [
    {
     "name": "stdout",
     "output_type": "stream",
     "text": [
      "Results using our Simple KNN:\n",
      "------------------------------\n",
      "k     Accuracy  \n",
      "------------------------------\n",
      "1     0.9778\n",
      "3     1.0000\n",
      "5     1.0000\n",
      "7     1.0000\n",
      "------------------------------\n"
     ]
    }
   ],
   "source": [
    "# Test with different k values\n",
    "print(\"Results using our Simple KNN:\")\n",
    "print(\"-\" * 30)\n",
    "print(f\"{'k':<5} {'Accuracy':<10}\")\n",
    "print(\"-\" * 30)\n",
    "\n",
    "for k in [1, 3, 5, 7]:\n",
    "    # Create and train our model\n",
    "    knn = SimpleKNN(k=k)\n",
    "    knn.fit(X_train_scaled, y_train)\n",
    "    \n",
    "    # Make predictions\n",
    "    y_pred = knn.predict(X_test_scaled)\n",
    "    \n",
    "    # Calculate accuracy\n",
    "    accuracy = accuracy_score(y_test, y_pred)\n",
    "    print(f\"{k:<5} {accuracy:.4f}\")\n",
    "\n",
    "print(\"-\" * 30)"
   ]
  },
  {
   "cell_type": "code",
   "execution_count": 10,
   "id": "d47b9470",
   "metadata": {},
   "outputs": [
    {
     "name": "stdout",
     "output_type": "stream",
     "text": [
      "Results using Scikit-learn's KNN:\n",
      "------------------------------\n",
      "k     Accuracy  \n",
      "------------------------------\n",
      "1     0.9778\n",
      "3     1.0000\n",
      "5     1.0000\n",
      "7     1.0000\n"
     ]
    }
   ],
   "source": [
    "# Test with scikit-learn's KNN\n",
    "print(\"Results using Scikit-learn's KNN:\")\n",
    "print(\"-\" * 30)\n",
    "print(f\"{'k':<5} {'Accuracy':<10}\")\n",
    "print(\"-\" * 30)\n",
    "\n",
    "for k in [1, 3, 5, 7]:\n",
    "    # Create and train sklearn model\n",
    "    sklearn_knn = KNeighborsClassifier(n_neighbors=k)\n",
    "    sklearn_knn.fit(X_train_scaled, y_train)\n",
    "    \n",
    "    # Make predictions\n",
    "    y_pred = sklearn_knn.predict(X_test_scaled)\n",
    "    \n",
    "    # Calculate accuracy\n",
    "    accuracy = accuracy_score(y_test, y_pred)\n",
    "    print(f\"{k:<5} {accuracy:.4f}\")\n",
    "\n"
   ]
  }
 ],
 "metadata": {
  "kernelspec": {
   "display_name": "Python 3",
   "language": "python",
   "name": "python3"
  },
  "language_info": {
   "codemirror_mode": {
    "name": "ipython",
    "version": 3
   },
   "file_extension": ".py",
   "mimetype": "text/x-python",
   "name": "python",
   "nbconvert_exporter": "python",
   "pygments_lexer": "ipython3",
   "version": "3.11.8"
  }
 },
 "nbformat": 4,
 "nbformat_minor": 5
}
