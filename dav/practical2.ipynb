{
 "cells": [
  {
   "cell_type": "markdown",
   "id": "e3e6062c",
   "metadata": {},
   "source": [
    "# Practical 2\n",
    "Aim : Create and initialize lists, tuples, sets, and dictionaries in python also perform operations like indexing, slicing, adding, removing, and sorting elements."
   ]
  },
  {
   "cell_type": "code",
   "execution_count": 44,
   "id": "f7deaa31-cdfc-4535-89e8-62fb3ab4d78e",
   "metadata": {},
   "outputs": [
    {
     "name": "stdout",
     "output_type": "stream",
     "text": [
      "Original list: [10, 20, 30, 40, 50]\n"
     ]
    }
   ],
   "source": [
    "l = [10, 20, 30, 40, 50]\n",
    "print('Original list:', l)"
   ]
  },
  {
   "cell_type": "code",
   "execution_count": 45,
   "id": "f7deaa31-cdfc-4535-89e8-62fb3ab4d78e",
   "metadata": {},
   "outputs": [
    {
     "name": "stdout",
     "output_type": "stream",
     "text": [
      "First element: 10\n"
     ]
    }
   ],
   "source": [
    "print('First element:', l[0])"
   ]
  },
  {
   "cell_type": "code",
   "execution_count": 46,
   "id": "f7deaa31-cdfc-4535-89e8-62fb3ab4d78e",
   "metadata": {},
   "outputs": [
    {
     "name": "stdout",
     "output_type": "stream",
     "text": [
      "Elements from index 1 to 3: [20, 30, 40]\n"
     ]
    }
   ],
   "source": [
    "print('Elements from index 1 to 3:', l[1:4])"
   ]
  },
  {
   "cell_type": "code",
   "execution_count": 47,
   "id": "ec867690",
   "metadata": {},
   "outputs": [
    {
     "name": "stdout",
     "output_type": "stream",
     "text": [
      "After appending 60: [10, 20, 30, 40, 50, 60]\n"
     ]
    }
   ],
   "source": [
    "l.append(60)\n",
    "print('After appending 60:', l)"
   ]
  },
  {
   "cell_type": "code",
   "execution_count": 48,
   "id": "f7deaa31-cdfc-4535-89e8-62fb3ab4d78e",
   "metadata": {},
   "outputs": [
    {
     "name": "stdout",
     "output_type": "stream",
     "text": [
      "After inserting 25 at index 2: [10, 20, 25, 30, 40, 50, 60]\n"
     ]
    }
   ],
   "source": [
    "l.insert(2, 25)\n",
    "print('After inserting 25 at index 2:', l)"
   ]
  },
  {
   "cell_type": "code",
   "execution_count": 49,
   "id": "f7deaa31-cdfc-4535-89e8-62fb3ab4d78e",
   "metadata": {},
   "outputs": [
    {
     "name": "stdout",
     "output_type": "stream",
     "text": [
      "After removing 30: [10, 20, 25, 40, 50, 60]\n"
     ]
    }
   ],
   "source": [
    "l.remove(30)\n",
    "print('After removing 30:', l)"
   ]
  },
  {
   "cell_type": "code",
   "execution_count": 50,
   "id": "f7deaa31-cdfc-4535-89e8-62fb3ab4d78e",
   "metadata": {},
   "outputs": [
    {
     "name": "stdout",
     "output_type": "stream",
     "text": [
      "After popping element at index 3: [10, 20, 25, 50, 60]\n"
     ]
    }
   ],
   "source": [
    "popped = l.pop(3)\n",
    "print('After popping element at index 3:', l)"
   ]
  },
  {
   "cell_type": "code",
   "execution_count": 51,
   "id": "f7deaa31-cdfc-4535-89e8-62fb3ab4d78e",
   "metadata": {},
   "outputs": [
    {
     "name": "stdout",
     "output_type": "stream",
     "text": [
      "After sorting: [10, 20, 25, 50, 60]\n"
     ]
    }
   ],
   "source": [
    "l.sort()\n",
    "print('After sorting:', l)"
   ]
  },
  {
   "cell_type": "code",
   "execution_count": 52,
   "id": "f7deaa31-cdfc-4535-89e8-62fb3ab4d78e",
   "metadata": {},
   "outputs": [
    {
     "name": "stdout",
     "output_type": "stream",
     "text": [
      "After reversing: [60, 50, 25, 20, 10]\n"
     ]
    }
   ],
   "source": [
    "l.reverse()\n",
    "print('After reversing:', l)"
   ]
  },
  {
   "cell_type": "code",
   "execution_count": 53,
   "id": "f7deaa31-cdfc-4535-89e8-62fb3ab4d78e",
   "metadata": {},
   "outputs": [
    {
     "name": "stdout",
     "output_type": "stream",
     "text": [
      "Original tuple: (5, 15, 25, 35, 45)\n"
     ]
    }
   ],
   "source": [
    "t = (5, 15, 25, 35, 45)\n",
    "print('Original tuple:', t)"
   ]
  },
  {
   "cell_type": "code",
   "execution_count": 54,
   "id": "f7deaa31-cdfc-4535-89e8-62fb3ab4d78e",
   "metadata": {},
   "outputs": [
    {
     "name": "stdout",
     "output_type": "stream",
     "text": [
      "Second element: 15\n"
     ]
    }
   ],
   "source": [
    "print('Second element:', t[1])"
   ]
  },
  {
   "cell_type": "code",
   "execution_count": 55,
   "id": "f7deaa31-cdfc-4535-89e8-62fb3ab4d78e",
   "metadata": {},
   "outputs": [
    {
     "name": "stdout",
     "output_type": "stream",
     "text": [
      "First three elements: (5, 15, 25)\n"
     ]
    }
   ],
   "source": [
    "print('First three elements:', t[:3])"
   ]
  },
  {
   "cell_type": "code",
   "execution_count": 56,
   "id": "f7deaa31-cdfc-4535-89e8-62fb3ab4d78e",
   "metadata": {},
   "outputs": [
    {
     "name": "stdout",
     "output_type": "stream",
     "text": [
      "After appending 55: (5, 15, 25, 35, 45, 55)\n"
     ]
    }
   ],
   "source": [
    "temp_list = list(t)\n",
    "temp_list.append(55)\n",
    "t = tuple(temp_list)\n",
    "print('After appending 55:', t)"
   ]
  },
  {
   "cell_type": "code",
   "execution_count": 57,
   "id": "f7deaa31-cdfc-4535-89e8-62fb3ab4d78e",
   "metadata": {},
   "outputs": [
    {
     "name": "stdout",
     "output_type": "stream",
     "text": [
      "Original set: {200, 100, 400, 300}\n"
     ]
    }
   ],
   "source": [
    "s = {100, 200, 300, 400}\n",
    "print('Original set:', s)"
   ]
  },
  {
   "cell_type": "code",
   "execution_count": 58,
   "id": "f7deaa31-cdfc-4535-89e8-62fb3ab4d78e",
   "metadata": {},
   "outputs": [
    {
     "name": "stdout",
     "output_type": "stream",
     "text": [
      "After adding 500: {100, 200, 300, 400, 500}\n"
     ]
    }
   ],
   "source": [
    "s.add(500)\n",
    "print('After adding 500:', s)"
   ]
  },
  {
   "cell_type": "code",
   "execution_count": 59,
   "id": "f7deaa31-cdfc-4535-89e8-62fb3ab4d78e",
   "metadata": {},
   "outputs": [
    {
     "name": "stdout",
     "output_type": "stream",
     "text": [
      "After removing 200: {100, 300, 400, 500}\n"
     ]
    }
   ],
   "source": [
    "s.remove(200)\n",
    "print('After removing 200:', s)"
   ]
  },
  {
   "cell_type": "code",
   "execution_count": 60,
   "id": "f7deaa31-cdfc-4535-89e8-62fb3ab4d78e",
   "metadata": {},
   "outputs": [
    {
     "name": "stdout",
     "output_type": "stream",
     "text": [
      "After discarding 600 (non-existent): {100, 300, 400, 500}\n"
     ]
    }
   ],
   "source": [
    "s.discard(600)\n",
    "print('After discarding 600 (non-existent):', s)"
   ]
  },
  {
   "cell_type": "code",
   "execution_count": 61,
   "id": "f7deaa31-cdfc-4535-89e8-62fb3ab4d78e",
   "metadata": {},
   "outputs": [
    {
     "name": "stdout",
     "output_type": "stream",
     "text": [
      "Union of set1 and set2: {1, 2, 3, 4, 5, 6}\n"
     ]
    }
   ],
   "source": [
    "set1 = {1, 2, 3, 4}\n",
    "set2 = {3, 4, 5, 6}\n",
    "union_set = set1 | set2\n",
    "print('Union of set1 and set2:', union_set)"
   ]
  },
  {
   "cell_type": "code",
   "execution_count": 62,
   "id": "f7deaa31-cdfc-4535-89e8-62fb3ab4d78e",
   "metadata": {},
   "outputs": [
    {
     "name": "stdout",
     "output_type": "stream",
     "text": [
      "Intersection of set1 and set2: {3, 4}\n"
     ]
    }
   ],
   "source": [
    "intersection_set = set1 & set2\n",
    "print('Intersection of set1 and set2:', intersection_set)"
   ]
  },
  {
   "cell_type": "code",
   "execution_count": 63,
   "id": "f7deaa31-cdfc-4535-89e8-62fb3ab4d78e",
   "metadata": {},
   "outputs": [
    {
     "name": "stdout",
     "output_type": "stream",
     "text": [
      "Difference of set1 and set2: {1, 2}\n"
     ]
    }
   ],
   "source": [
    "difference_set = set1 - set2\n",
    "print('Difference of set1 and set2:', difference_set)"
   ]
  },
  {
   "cell_type": "code",
   "execution_count": 64,
   "id": "f7deaa31-cdfc-4535-89e8-62fb3ab4d78e",
   "metadata": {},
   "outputs": [
    {
     "name": "stdout",
     "output_type": "stream",
     "text": [
      "Original dictionary: {'a': 1, 'b': 2, 'c': 3}\n"
     ]
    }
   ],
   "source": [
    "my_dict = {'a': 1, 'b': 2, 'c': 3}\n",
    "print('Original dictionary:', my_dict)"
   ]
  },
  {
   "cell_type": "code",
   "execution_count": 65,
   "id": "f7deaa31-cdfc-4535-89e8-62fb3ab4d78e",
   "metadata": {},
   "outputs": [
    {
     "name": "stdout",
     "output_type": "stream",
     "text": [
      "After adding key d: {'a': 1, 'b': 2, 'c': 3, 'd': 4}\n"
     ]
    }
   ],
   "source": [
    "my_dict['d'] = 4\n",
    "print('After adding key d:', my_dict)"
   ]
  },
  {
   "cell_type": "code",
   "execution_count": 66,
   "id": "f7deaa31-cdfc-4535-89e8-62fb3ab4d78e",
   "metadata": {},
   "outputs": [
    {
     "name": "stdout",
     "output_type": "stream",
     "text": [
      "After removing key b: {'a': 1, 'c': 3, 'd': 4}\n"
     ]
    }
   ],
   "source": [
    "del my_dict['b']\n",
    "print('After removing key b:', my_dict)"
   ]
  },
  {
   "cell_type": "code",
   "execution_count": 67,
   "id": "f7deaa31-cdfc-4535-89e8-62fb3ab4d78e",
   "metadata": {},
   "outputs": [
    {
     "name": "stdout",
     "output_type": "stream",
     "text": [
      "Original dictionary: {'name': 'Alice', 'age': 25, 'city': 'New York'}\n"
     ]
    }
   ],
   "source": [
    "d = {'name': 'Alice', 'age': 25, 'city': 'New York'}\n",
    "print('Original dictionary:', d)"
   ]
  },
  {
   "cell_type": "code",
   "execution_count": 68,
   "id": "f7deaa31-cdfc-4535-89e8-62fb3ab4d78e",
   "metadata": {},
   "outputs": [
    {
     "name": "stdout",
     "output_type": "stream",
     "text": [
      "Name: Alice\n"
     ]
    }
   ],
   "source": [
    "print('Name:', d['name'])"
   ]
  },
  {
   "cell_type": "code",
   "execution_count": 69,
   "id": "f7deaa31-cdfc-4535-89e8-62fb3ab4d78e",
   "metadata": {},
   "outputs": [
    {
     "name": "stdout",
     "output_type": "stream",
     "text": [
      "After updating age: {'name': 'Alice', 'age': 26, 'city': 'New York'}\n"
     ]
    }
   ],
   "source": [
    "d['age'] = 26\n",
    "print('After updating age:', d)"
   ]
  },
  {
   "cell_type": "code",
   "execution_count": 70,
   "id": "f7deaa31-cdfc-4535-89e8-62fb3ab4d78e",
   "metadata": {},
   "outputs": [
    {
     "name": "stdout",
     "output_type": "stream",
     "text": [
      "After adding profession: {'name': 'Alice', 'age': 26, 'city': 'New York', 'profession': 'Engineer'}\n"
     ]
    }
   ],
   "source": [
    "d['profession'] = 'Engineer'\n",
    "print('After adding profession:', d)"
   ]
  },
  {
   "cell_type": "code",
   "execution_count": 71,
   "id": "f7deaa31-cdfc-4535-89e8-62fb3ab4d78e",
   "metadata": {},
   "outputs": [
    {
     "name": "stdout",
     "output_type": "stream",
     "text": [
      "After deleting city: {'name': 'Alice', 'age': 26, 'profession': 'Engineer'}\n"
     ]
    }
   ],
   "source": [
    "del d['city']\n",
    "print('After deleting city:', d)"
   ]
  },
  {
   "cell_type": "code",
   "execution_count": 72,
   "id": "f7deaa31-cdfc-4535-89e8-62fb3ab4d78e",
   "metadata": {},
   "outputs": [
    {
     "name": "stdout",
     "output_type": "stream",
     "text": [
      "After popping age: {'name': 'Alice', 'profession': 'Engineer'}\n"
     ]
    }
   ],
   "source": [
    "removed_value = d.pop('age')\n",
    "print('After popping age:', d)"
   ]
  },
  {
   "cell_type": "code",
   "execution_count": 73,
   "id": "f7deaa31-cdfc-4535-89e8-62fb3ab4d78e",
   "metadata": {},
   "outputs": [
    {
     "name": "stdout",
     "output_type": "stream",
     "text": [
      "Sorted keys: ['name', 'profession']\n"
     ]
    }
   ],
   "source": [
    "sorted_keys = sorted(d.keys())\n",
    "print('Sorted keys:', sorted_keys)\n"
   ]
  }
 ],
 "metadata": {
  "kernelspec": {
   "display_name": "Python 3",
   "language": "python",
   "name": "python3"
  },
  "language_info": {
   "codemirror_mode": {
    "name": "ipython",
    "version": 3
   },
   "file_extension": ".py",
   "mimetype": "text/x-python",
   "name": "python",
   "nbconvert_exporter": "python",
   "pygments_lexer": "ipython3",
   "version": "3.12.6"
  }
 },
 "nbformat": 4,
 "nbformat_minor": 5
}
