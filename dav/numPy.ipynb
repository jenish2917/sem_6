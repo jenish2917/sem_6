{
  "cells": [
    {
      "cell_type": "markdown",
      "metadata": {},
      "source": [
        "# Practical 3\n",
        "Aim : Perform experiments using NumPy."
      ]
    },
    {
      "cell_type": "code",
      "execution_count": 1,
      "metadata": {
        "colab": {
          "base_uri": "https://localhost:8080/"
        },
        "id": "cgKc6aKICF2Q",
        "outputId": "abfaf063-c4af-4d1f-d854-81bd4701c782"
      },
      "outputs": [
        {
          "name": "stdout",
          "output_type": "stream",
          "text": [
            "hello world\n"
          ]
        }
      ],
      "source": [
        "print(\"hello world\")"
      ]
    },
    {
      "cell_type": "code",
      "execution_count": 2,
      "metadata": {
        "id": "KOgle1LDCF2R"
      },
      "outputs": [],
      "source": [
        "import numpy as np"
      ]
    },
    {
      "cell_type": "code",
      "execution_count": 3,
      "metadata": {
        "id": "3hhg2d6kCF2R"
      },
      "outputs": [],
      "source": [
        "arr = np.array([1,2,3,4,5])"
      ]
    },
    {
      "cell_type": "code",
      "execution_count": 4,
      "metadata": {
        "colab": {
          "base_uri": "https://localhost:8080/"
        },
        "id": "TYdTS57ECF2S",
        "outputId": "e4ef1136-87f5-49a8-952a-b111b079aeb8"
      },
      "outputs": [
        {
          "data": {
            "text/plain": [
              "array([1, 2, 3, 4, 5])"
            ]
          },
          "execution_count": 4,
          "metadata": {},
          "output_type": "execute_result"
        }
      ],
      "source": [
        "arr"
      ]
    },
    {
      "cell_type": "code",
      "execution_count": 5,
      "metadata": {
        "colab": {
          "base_uri": "https://localhost:8080/"
        },
        "id": "tO1ef-q9CF2S",
        "outputId": "1e85d92e-9790-461e-92d8-59054f557338"
      },
      "outputs": [
        {
          "data": {
            "text/plain": [
              "1"
            ]
          },
          "execution_count": 5,
          "metadata": {},
          "output_type": "execute_result"
        }
      ],
      "source": [
        "arr.ndim"
      ]
    },
    {
      "cell_type": "code",
      "execution_count": 6,
      "metadata": {
        "colab": {
          "base_uri": "https://localhost:8080/",
          "height": 36
        },
        "id": "3CRksHclCF2S",
        "outputId": "2d7825c6-ef06-48eb-f360-084d9b7797c3"
      },
      "outputs": [
        {
          "data": {
            "text/plain": [
              "'1.26.4'"
            ]
          },
          "execution_count": 6,
          "metadata": {},
          "output_type": "execute_result"
        }
      ],
      "source": [
        "np.__version__"
      ]
    },
    {
      "cell_type": "code",
      "execution_count": 7,
      "metadata": {
        "colab": {
          "base_uri": "https://localhost:8080/"
        },
        "id": "Oxtp_XBjCF2S",
        "outputId": "65a30ba4-0515-41b7-e7b7-11b98b168643"
      },
      "outputs": [
        {
          "data": {
            "text/plain": [
              "numpy.ndarray"
            ]
          },
          "execution_count": 7,
          "metadata": {},
          "output_type": "execute_result"
        }
      ],
      "source": [
        "type(arr)"
      ]
    },
    {
      "cell_type": "code",
      "execution_count": 8,
      "metadata": {
        "id": "3ka76bzqCF2S"
      },
      "outputs": [],
      "source": [
        "arr = np.array(42)"
      ]
    },
    {
      "cell_type": "code",
      "execution_count": 9,
      "metadata": {
        "colab": {
          "base_uri": "https://localhost:8080/"
        },
        "id": "mvub-kxpCF2S",
        "outputId": "dffb0fff-f103-4f17-d4fe-6f8f0a3fc7e4"
      },
      "outputs": [
        {
          "data": {
            "text/plain": [
              "0"
            ]
          },
          "execution_count": 9,
          "metadata": {},
          "output_type": "execute_result"
        }
      ],
      "source": [
        "arr.ndim"
      ]
    },
    {
      "cell_type": "code",
      "execution_count": 10,
      "metadata": {
        "colab": {
          "base_uri": "https://localhost:8080/"
        },
        "id": "izP6vslhCF2S",
        "outputId": "624397c6-0be6-4e53-efb0-93f763f227ba"
      },
      "outputs": [
        {
          "data": {
            "text/plain": [
              "array(42)"
            ]
          },
          "execution_count": 10,
          "metadata": {},
          "output_type": "execute_result"
        }
      ],
      "source": [
        "arr"
      ]
    },
    {
      "cell_type": "code",
      "execution_count": 11,
      "metadata": {
        "colab": {
          "base_uri": "https://localhost:8080/"
        },
        "id": "DySJ6vbTCF2T",
        "outputId": "8f860252-c0f4-43d0-921b-a81fa8971e5c"
      },
      "outputs": [
        {
          "name": "stdout",
          "output_type": "stream",
          "text": [
            "[[1 2 3]\n",
            " [4 5 6]]\n"
          ]
        }
      ],
      "source": [
        "arr = np.array([[1,2,3],[4,5,6]])\n",
        "print(arr)"
      ]
    },
    {
      "cell_type": "code",
      "execution_count": 12,
      "metadata": {
        "colab": {
          "base_uri": "https://localhost:8080/"
        },
        "id": "Q6Hnz8c6CF2T",
        "outputId": "e3abf9c3-5af0-451c-ece1-bb6fa197d2b5"
      },
      "outputs": [
        {
          "data": {
            "text/plain": [
              "2"
            ]
          },
          "execution_count": 12,
          "metadata": {},
          "output_type": "execute_result"
        }
      ],
      "source": [
        "arr.ndim"
      ]
    },
    {
      "cell_type": "code",
      "execution_count": 13,
      "metadata": {
        "colab": {
          "base_uri": "https://localhost:8080/"
        },
        "id": "ui6edQTACF2T",
        "outputId": "d5d87c07-b3ae-4142-c6a5-f67058f7bde5"
      },
      "outputs": [
        {
          "data": {
            "text/plain": [
              "array([[[1, 2, 3],\n",
              "        [4, 5, 6]],\n",
              "\n",
              "       [[1, 2, 3],\n",
              "        [4, 5, 6]]])"
            ]
          },
          "execution_count": 13,
          "metadata": {},
          "output_type": "execute_result"
        }
      ],
      "source": [
        "arr = np.array([[[1,2,3], [4,5,6]],[[1,2,3],[4,5,6]]])\n",
        "arr"
      ]
    },
    {
      "cell_type": "code",
      "execution_count": 14,
      "metadata": {
        "colab": {
          "base_uri": "https://localhost:8080/"
        },
        "id": "jcsrPepdCF2T",
        "outputId": "cee3b098-8aed-40bc-eb81-639e245bf071"
      },
      "outputs": [
        {
          "data": {
            "text/plain": [
              "3"
            ]
          },
          "execution_count": 14,
          "metadata": {},
          "output_type": "execute_result"
        }
      ],
      "source": [
        "arr.ndim"
      ]
    },
    {
      "cell_type": "code",
      "execution_count": 15,
      "metadata": {
        "id": "1Mv2T7v_CF2T"
      },
      "outputs": [],
      "source": [
        "my_array = np.arange(1000000)"
      ]
    },
    {
      "cell_type": "code",
      "execution_count": 16,
      "metadata": {
        "id": "qgBwjPSQCF2T"
      },
      "outputs": [],
      "source": [
        "my_list = list(range(1000000))"
      ]
    },
    {
      "cell_type": "code",
      "execution_count": 17,
      "metadata": {
        "colab": {
          "base_uri": "https://localhost:8080/"
        },
        "id": "KCdvRvwCCF2T",
        "outputId": "12e2db4a-01b1-43f5-cd60-c6b0cc7a86b9"
      },
      "outputs": [
        {
          "name": "stdout",
          "output_type": "stream",
          "text": [
            "CPU times: total: 0 ns\n",
            "Wall time: 8 ms\n"
          ]
        }
      ],
      "source": [
        "# Lets mulktiply each sequence by 2\n",
        "%time for _ in range(10) : my_array2 = my_array * 2\n"
      ]
    },
    {
      "cell_type": "code",
      "execution_count": 18,
      "metadata": {
        "colab": {
          "base_uri": "https://localhost:8080/"
        },
        "id": "isikWhdbCF2T",
        "outputId": "46e7b6a4-8131-4fe4-f9ab-4cdf0e874af9"
      },
      "outputs": [
        {
          "name": "stdout",
          "output_type": "stream",
          "text": [
            "CPU times: total: 109 ms\n",
            "Wall time: 334 ms\n"
          ]
        }
      ],
      "source": [
        "%time for _ in range(10): my_list2 = [x*2 for x in my_list]"
      ]
    },
    {
      "cell_type": "code",
      "execution_count": 19,
      "metadata": {
        "id": "-2QeaViNCF2T"
      },
      "outputs": [],
      "source": [
        "import numpy as np"
      ]
    },
    {
      "cell_type": "code",
      "execution_count": 20,
      "metadata": {
        "colab": {
          "base_uri": "https://localhost:8080/"
        },
        "id": "tkuK3-HYCF2T",
        "outputId": "5bd8255d-60ec-4616-8198-b2524ebb01de"
      },
      "outputs": [
        {
          "data": {
            "text/plain": [
              "array([[ 0.73729933, -0.34247682, -2.04584446],\n",
              "       [ 0.97486241,  2.12348854,  1.29192561]])"
            ]
          },
          "execution_count": 20,
          "metadata": {},
          "output_type": "execute_result"
        }
      ],
      "source": [
        "data = np.random.randn(2,3)\n",
        "data"
      ]
    },
    {
      "cell_type": "code",
      "execution_count": 21,
      "metadata": {
        "colab": {
          "base_uri": "https://localhost:8080/"
        },
        "id": "XtEFrm-qCF2T",
        "outputId": "047b7b2b-3d4f-4af4-8719-e94767372162"
      },
      "outputs": [
        {
          "data": {
            "text/plain": [
              "array([[  7.3729933 ,  -3.42476824, -20.4584446 ],\n",
              "       [  9.74862412,  21.23488545,  12.91925608]])"
            ]
          },
          "execution_count": 21,
          "metadata": {},
          "output_type": "execute_result"
        }
      ],
      "source": [
        "data*10"
      ]
    },
    {
      "cell_type": "code",
      "execution_count": 22,
      "metadata": {
        "colab": {
          "base_uri": "https://localhost:8080/"
        },
        "id": "ZY-7e8mlCF2T",
        "outputId": "c63d5ff3-cd59-4339-f514-16e98bd1cc0b"
      },
      "outputs": [
        {
          "data": {
            "text/plain": [
              "array([[ 1.47459866, -0.68495365, -4.09168892],\n",
              "       [ 1.94972482,  4.24697709,  2.58385122]])"
            ]
          },
          "execution_count": 22,
          "metadata": {},
          "output_type": "execute_result"
        }
      ],
      "source": [
        "data +data"
      ]
    },
    {
      "cell_type": "code",
      "execution_count": 23,
      "metadata": {
        "colab": {
          "base_uri": "https://localhost:8080/"
        },
        "id": "slgwKLuLCF2U",
        "outputId": "a7e5ca27-28d8-45af-ae87-aca948f46116"
      },
      "outputs": [
        {
          "data": {
            "text/plain": [
              "(2, 3)"
            ]
          },
          "execution_count": 23,
          "metadata": {},
          "output_type": "execute_result"
        }
      ],
      "source": [
        "data.shape"
      ]
    },
    {
      "cell_type": "code",
      "execution_count": 24,
      "metadata": {
        "colab": {
          "base_uri": "https://localhost:8080/"
        },
        "id": "beI9pRGICF2U",
        "outputId": "42fa2493-66e5-4e73-c160-9d21090114db"
      },
      "outputs": [
        {
          "data": {
            "text/plain": [
              "dtype('float64')"
            ]
          },
          "execution_count": 24,
          "metadata": {},
          "output_type": "execute_result"
        }
      ],
      "source": [
        "data.dtype"
      ]
    },
    {
      "cell_type": "code",
      "execution_count": 25,
      "metadata": {
        "id": "hR92F0baCF2U"
      },
      "outputs": [],
      "source": [
        "arr1 = [6,7.5,8,0,1]"
      ]
    },
    {
      "cell_type": "code",
      "execution_count": 26,
      "metadata": {
        "id": "uQAJ1sEZCF2U"
      },
      "outputs": [],
      "source": [
        "arr1 = np.array(arr1)"
      ]
    },
    {
      "cell_type": "code",
      "execution_count": 27,
      "metadata": {
        "colab": {
          "base_uri": "https://localhost:8080/"
        },
        "id": "UJFsV7d3CF2U",
        "outputId": "133e49f9-1a56-488f-835b-daca17301b93"
      },
      "outputs": [
        {
          "data": {
            "text/plain": [
              "array([6. , 7.5, 8. , 0. , 1. ])"
            ]
          },
          "execution_count": 27,
          "metadata": {},
          "output_type": "execute_result"
        }
      ],
      "source": [
        "arr1"
      ]
    },
    {
      "cell_type": "code",
      "execution_count": 28,
      "metadata": {
        "colab": {
          "base_uri": "https://localhost:8080/"
        },
        "id": "vBM4sm-LCF2U",
        "outputId": "be3efb30-b84d-4f6f-f98e-ed66e36c19c5"
      },
      "outputs": [
        {
          "data": {
            "text/plain": [
              "array([0., 0., 0., 0., 0., 0., 0., 0., 0., 0.])"
            ]
          },
          "execution_count": 28,
          "metadata": {},
          "output_type": "execute_result"
        }
      ],
      "source": [
        "np.zeros(10)"
      ]
    },
    {
      "cell_type": "code",
      "execution_count": 29,
      "metadata": {
        "colab": {
          "base_uri": "https://localhost:8080/"
        },
        "id": "m01VSengCF2U",
        "outputId": "f29553f2-8d7f-431b-8b4d-a0d200870360"
      },
      "outputs": [
        {
          "data": {
            "text/plain": [
              "array([[0., 0., 0., 0., 0., 0.],\n",
              "       [0., 0., 0., 0., 0., 0.],\n",
              "       [0., 0., 0., 0., 0., 0.]])"
            ]
          },
          "execution_count": 29,
          "metadata": {},
          "output_type": "execute_result"
        }
      ],
      "source": [
        "np.zeros((3,6))"
      ]
    },
    {
      "cell_type": "code",
      "execution_count": 30,
      "metadata": {
        "colab": {
          "base_uri": "https://localhost:8080/"
        },
        "id": "gZCWfuNNCF2U",
        "outputId": "830c837f-29ab-467e-f99c-de86b1c5a30e"
      },
      "outputs": [
        {
          "data": {
            "text/plain": [
              "array([[[0., 0.],\n",
              "        [0., 0.],\n",
              "        [0., 0.]],\n",
              "\n",
              "       [[0., 0.],\n",
              "        [0., 0.],\n",
              "        [0., 0.]]])"
            ]
          },
          "execution_count": 30,
          "metadata": {},
          "output_type": "execute_result"
        }
      ],
      "source": [
        "np.zeros((2,3,2))"
      ]
    },
    {
      "cell_type": "code",
      "execution_count": 31,
      "metadata": {
        "colab": {
          "base_uri": "https://localhost:8080/"
        },
        "id": "Z3S8WH38CF2U",
        "outputId": "a10ab4d8-4a68-49ef-dde7-0b0d4f26161b"
      },
      "outputs": [
        {
          "data": {
            "text/plain": [
              "array([[[0., 0.],\n",
              "        [0., 0.],\n",
              "        [0., 0.]],\n",
              "\n",
              "       [[0., 0.],\n",
              "        [0., 0.],\n",
              "        [0., 0.]]])"
            ]
          },
          "execution_count": 31,
          "metadata": {},
          "output_type": "execute_result"
        }
      ],
      "source": [
        "np.empty((2,3,2))"
      ]
    },
    {
      "cell_type": "code",
      "execution_count": 32,
      "metadata": {
        "colab": {
          "base_uri": "https://localhost:8080/"
        },
        "id": "gP_B6-tdCF2U",
        "outputId": "1655b8c8-b9ed-4486-9b8c-884ac80cf1d8"
      },
      "outputs": [
        {
          "data": {
            "text/plain": [
              "dtype('int64')"
            ]
          },
          "execution_count": 32,
          "metadata": {},
          "output_type": "execute_result"
        }
      ],
      "source": [
        "arr1 = np.array([1,2,3], dtype=np.int64)\n",
        "arr1.dtype"
      ]
    },
    {
      "cell_type": "code",
      "execution_count": 33,
      "metadata": {
        "colab": {
          "base_uri": "https://localhost:8080/"
        },
        "id": "KnWfJB-lCF2U",
        "outputId": "641f01e0-760e-4555-9dd7-1201bf38212a"
      },
      "outputs": [
        {
          "data": {
            "text/plain": [
              "array([ 3.7, -1.2, -2.6,  0.5, 12.9, 10.1])"
            ]
          },
          "execution_count": 33,
          "metadata": {},
          "output_type": "execute_result"
        }
      ],
      "source": [
        "arr = np.array([3.7,-1.2,-2.6,.5,12.9,10.1])\n",
        "arr"
      ]
    },
    {
      "cell_type": "code",
      "execution_count": 34,
      "metadata": {
        "colab": {
          "base_uri": "https://localhost:8080/"
        },
        "id": "Wb8hELsaCF2U",
        "outputId": "947f4663-60db-4306-ef11-3e995f91e782"
      },
      "outputs": [
        {
          "data": {
            "text/plain": [
              "array([ 3, -1, -2,  0, 12, 10])"
            ]
          },
          "execution_count": 34,
          "metadata": {},
          "output_type": "execute_result"
        }
      ],
      "source": [
        "arr.astype(np.int32)"
      ]
    },
    {
      "cell_type": "code",
      "execution_count": 35,
      "metadata": {
        "id": "Ef54LCHpCF2U"
      },
      "outputs": [],
      "source": [
        "numeric_string = np.array(['1.25', '-9.6', '42'], dtype= np.bytes_)"
      ]
    },
    {
      "cell_type": "code",
      "execution_count": 36,
      "metadata": {
        "colab": {
          "base_uri": "https://localhost:8080/"
        },
        "id": "vVPryUooCF2U",
        "outputId": "379ba30a-070f-462d-cb2e-82abb74463f1"
      },
      "outputs": [
        {
          "data": {
            "text/plain": [
              "array([ 1.25, -9.6 , 42.  ])"
            ]
          },
          "execution_count": 36,
          "metadata": {},
          "output_type": "execute_result"
        }
      ],
      "source": [
        "numeric_string.astype(float)"
      ]
    },
    {
      "cell_type": "code",
      "execution_count": 37,
      "metadata": {
        "id": "c-j6EHOBCF2U"
      },
      "outputs": [],
      "source": [
        "int_array = np.arange(10)"
      ]
    },
    {
      "cell_type": "code",
      "execution_count": 38,
      "metadata": {
        "id": "DRHrLdJCCF2V"
      },
      "outputs": [],
      "source": [
        "calibers = np.array([.22,.270, .357, .380, .44, .50], dtype=np.float64)"
      ]
    },
    {
      "cell_type": "code",
      "execution_count": 39,
      "metadata": {
        "colab": {
          "base_uri": "https://localhost:8080/"
        },
        "id": "n1vs5t6DCF2V",
        "outputId": "7b2d70f4-d058-4d42-c8a4-93de2cb579ac"
      },
      "outputs": [
        {
          "data": {
            "text/plain": [
              "array([0., 1., 2., 3., 4., 5., 6., 7., 8., 9.])"
            ]
          },
          "execution_count": 39,
          "metadata": {},
          "output_type": "execute_result"
        }
      ],
      "source": [
        "int_array.astype(calibers.dtype)"
      ]
    },
    {
      "cell_type": "code",
      "execution_count": 40,
      "metadata": {
        "colab": {
          "base_uri": "https://localhost:8080/"
        },
        "id": "kx9Gzso8CF2Y",
        "outputId": "6f881cca-a8ec-45f1-f7a2-b8f067c4306b"
      },
      "outputs": [
        {
          "data": {
            "text/plain": [
              "array([         0, 1075314688,          0, 1075707904,          0,\n",
              "       1075838976,          0, 1072693248], dtype=uint32)"
            ]
          },
          "execution_count": 40,
          "metadata": {},
          "output_type": "execute_result"
        }
      ],
      "source": [
        "empty_unit32 = np.empty(8,dtype='u4')\n",
        "empty_unit32"
      ]
    },
    {
      "cell_type": "code",
      "execution_count": 41,
      "metadata": {
        "colab": {
          "base_uri": "https://localhost:8080/"
        },
        "id": "sS2Hk8j7CF2Y",
        "outputId": "9c56ba95-3b1e-4d18-c739-fbfa5f6de116"
      },
      "outputs": [
        {
          "data": {
            "text/plain": [
              "array([[1., 2., 3.],\n",
              "       [4., 5., 6.],\n",
              "       [7., 8., 9.]])"
            ]
          },
          "execution_count": 41,
          "metadata": {},
          "output_type": "execute_result"
        }
      ],
      "source": [
        "arr = np.array([[1.,2.,3.], [4.,5.,6.], [7.,8.,9.]])\n",
        "arr\n"
      ]
    },
    {
      "cell_type": "code",
      "execution_count": 42,
      "metadata": {
        "colab": {
          "base_uri": "https://localhost:8080/"
        },
        "id": "z5VPP5uaCF2Y",
        "outputId": "5e675e24-5c6d-4bf7-9165-58cfbcec8429"
      },
      "outputs": [
        {
          "data": {
            "text/plain": [
              "array([[ 1.,  4.,  9.],\n",
              "       [16., 25., 36.],\n",
              "       [49., 64., 81.]])"
            ]
          },
          "execution_count": 42,
          "metadata": {},
          "output_type": "execute_result"
        }
      ],
      "source": [
        "arr**2"
      ]
    },
    {
      "cell_type": "code",
      "execution_count": 43,
      "metadata": {
        "colab": {
          "base_uri": "https://localhost:8080/"
        },
        "id": "R9CWGRpKCF2Z",
        "outputId": "d0a972f7-a51d-48fe-916a-cd7588babc87"
      },
      "outputs": [
        {
          "data": {
            "text/plain": [
              "array([[0., 0., 0.],\n",
              "       [0., 0., 0.],\n",
              "       [0., 0., 0.]])"
            ]
          },
          "execution_count": 43,
          "metadata": {},
          "output_type": "execute_result"
        }
      ],
      "source": [
        "arr - arr"
      ]
    },
    {
      "cell_type": "code",
      "execution_count": 44,
      "metadata": {
        "colab": {
          "base_uri": "https://localhost:8080/"
        },
        "id": "_F8DuLD6CF2Z",
        "outputId": "b3ae05e8-c844-4524-96bb-4ff665d12f61"
      },
      "outputs": [
        {
          "data": {
            "text/plain": [
              "array([[1.        , 0.5       , 0.33333333],\n",
              "       [0.25      , 0.2       , 0.16666667],\n",
              "       [0.14285714, 0.125     , 0.11111111]])"
            ]
          },
          "execution_count": 44,
          "metadata": {},
          "output_type": "execute_result"
        }
      ],
      "source": [
        "1/arr"
      ]
    },
    {
      "cell_type": "code",
      "execution_count": 45,
      "metadata": {
        "colab": {
          "base_uri": "https://localhost:8080/"
        },
        "id": "sn8V33-aCF2Z",
        "outputId": "a866c29a-bb19-4d3b-a522-14b927b76987"
      },
      "outputs": [
        {
          "data": {
            "text/plain": [
              "array([[1.        , 1.41421356, 1.73205081],\n",
              "       [2.        , 2.23606798, 2.44948974],\n",
              "       [2.64575131, 2.82842712, 3.        ]])"
            ]
          },
          "execution_count": 45,
          "metadata": {},
          "output_type": "execute_result"
        }
      ],
      "source": [
        "arr**.5"
      ]
    },
    {
      "cell_type": "code",
      "execution_count": 46,
      "metadata": {
        "colab": {
          "base_uri": "https://localhost:8080/"
        },
        "id": "vDK1WIteCF2Z",
        "outputId": "ce96883e-fddf-4acd-df5c-1e0e1915ece4"
      },
      "outputs": [
        {
          "data": {
            "text/plain": [
              "array([[ 0.,  4.,  1.],\n",
              "       [ 7.,  2., 12.],\n",
              "       [ 3.,  5.,  6.]])"
            ]
          },
          "execution_count": 46,
          "metadata": {},
          "output_type": "execute_result"
        }
      ],
      "source": [
        "arr2 = np.array([[0.,4.,1.],[7.,2.,12.], [3., 5., 6.]])\n",
        "arr2"
      ]
    },
    {
      "cell_type": "code",
      "execution_count": 47,
      "metadata": {
        "colab": {
          "base_uri": "https://localhost:8080/"
        },
        "id": "MnTm7kniCF2Z",
        "outputId": "7d804f19-42a4-4da2-9989-6f3dacd6c2e5"
      },
      "outputs": [
        {
          "data": {
            "text/plain": [
              "array([[False,  True, False],\n",
              "       [ True, False,  True],\n",
              "       [False, False, False]])"
            ]
          },
          "execution_count": 47,
          "metadata": {},
          "output_type": "execute_result"
        }
      ],
      "source": [
        "arr2>arr"
      ]
    },
    {
      "cell_type": "markdown",
      "metadata": {
        "id": "hn2PjYcxCF2Z"
      },
      "source": [
        "Basic indexing and sliceing"
      ]
    },
    {
      "cell_type": "code",
      "execution_count": 48,
      "metadata": {
        "colab": {
          "base_uri": "https://localhost:8080/"
        },
        "id": "Xi2MsNsmCF2Z",
        "outputId": "c7700751-15a7-49c1-9f15-304971110a46"
      },
      "outputs": [
        {
          "data": {
            "text/plain": [
              "array([0, 1, 2, 3, 4, 5, 6, 7, 8, 9])"
            ]
          },
          "execution_count": 48,
          "metadata": {},
          "output_type": "execute_result"
        }
      ],
      "source": [
        "arr = np.arange(10)\n",
        "arr"
      ]
    },
    {
      "cell_type": "code",
      "execution_count": 49,
      "metadata": {
        "colab": {
          "base_uri": "https://localhost:8080/"
        },
        "id": "3PbZ7YYDCF2a",
        "outputId": "7eae4938-3cd3-4b9e-d595-17db2575f624"
      },
      "outputs": [
        {
          "data": {
            "text/plain": [
              "5"
            ]
          },
          "execution_count": 49,
          "metadata": {},
          "output_type": "execute_result"
        }
      ],
      "source": [
        "arr[5]"
      ]
    },
    {
      "cell_type": "code",
      "execution_count": 50,
      "metadata": {
        "colab": {
          "base_uri": "https://localhost:8080/"
        },
        "id": "l1QkqMhUCF2a",
        "outputId": "09ea8b20-10f9-4e99-b7df-3dbee933cda1"
      },
      "outputs": [
        {
          "data": {
            "text/plain": [
              "array([5, 6, 7])"
            ]
          },
          "execution_count": 50,
          "metadata": {},
          "output_type": "execute_result"
        }
      ],
      "source": [
        "arr[5:8]"
      ]
    },
    {
      "cell_type": "code",
      "execution_count": 51,
      "metadata": {
        "colab": {
          "base_uri": "https://localhost:8080/"
        },
        "id": "AQXQ4gOdCF2a",
        "outputId": "d96c3c18-9c0d-4faa-facf-99f650b550f2"
      },
      "outputs": [
        {
          "data": {
            "text/plain": [
              "array([ 0,  1,  2,  3,  4, 12, 12, 12,  8,  9])"
            ]
          },
          "execution_count": 51,
          "metadata": {},
          "output_type": "execute_result"
        }
      ],
      "source": [
        "arr[5:8] =12\n",
        "arr"
      ]
    },
    {
      "cell_type": "code",
      "execution_count": 52,
      "metadata": {
        "id": "AGgw6SgzCF2a"
      },
      "outputs": [],
      "source": [
        "arr_slice = arr[5:8]"
      ]
    },
    {
      "cell_type": "code",
      "execution_count": 53,
      "metadata": {
        "id": "c27lsYwlCF2a"
      },
      "outputs": [],
      "source": [
        "arr_slice[1] = 12345"
      ]
    },
    {
      "cell_type": "code",
      "execution_count": 54,
      "metadata": {
        "colab": {
          "base_uri": "https://localhost:8080/"
        },
        "id": "uWqNbiryCF2a",
        "outputId": "1dbc1c0e-fadf-43a0-dc37-01ac2187a216"
      },
      "outputs": [
        {
          "data": {
            "text/plain": [
              "array([    0,     1,     2,     3,     4,    12, 12345,    12,     8,\n",
              "           9])"
            ]
          },
          "execution_count": 54,
          "metadata": {},
          "output_type": "execute_result"
        }
      ],
      "source": [
        "arr"
      ]
    },
    {
      "cell_type": "code",
      "execution_count": 55,
      "metadata": {
        "colab": {
          "base_uri": "https://localhost:8080/"
        },
        "id": "K-Qd-9_DCF2a",
        "outputId": "74ecfe99-a147-4a77-e97a-ae38f02334b5"
      },
      "outputs": [
        {
          "data": {
            "text/plain": [
              "array([ 0,  1,  2,  3,  4, 64, 64, 64,  8,  9])"
            ]
          },
          "execution_count": 55,
          "metadata": {},
          "output_type": "execute_result"
        }
      ],
      "source": [
        "arr_slice[:] = 64\n",
        "arr"
      ]
    },
    {
      "cell_type": "code",
      "execution_count": 56,
      "metadata": {
        "colab": {
          "base_uri": "https://localhost:8080/"
        },
        "id": "HHX5zSdSCF2a",
        "outputId": "f8afa093-a716-4f6b-afa9-841487a09b94"
      },
      "outputs": [
        {
          "name": "stdout",
          "output_type": "stream",
          "text": [
            "[7 8 9]\n",
            "3\n",
            "3\n"
          ]
        }
      ],
      "source": [
        "arr2d = np.array([[1,2,3],[4,5,6], [7,8,9]])\n",
        "print(arr2d[2])\n",
        "print(arr2d[0][2])\n",
        "print(arr2d[0,2])"
      ]
    },
    {
      "cell_type": "code",
      "execution_count": 57,
      "metadata": {
        "colab": {
          "base_uri": "https://localhost:8080/"
        },
        "id": "fY9TjdnRCF2b",
        "outputId": "1e11e684-88fc-4411-b14d-d027f693c2be"
      },
      "outputs": [
        {
          "data": {
            "text/plain": [
              "(array(['bob', 'joe', 'will', 'bob', 'will', 'joe', 'joe'], dtype='<U4'),\n",
              " array([[-0.21126019,  0.30404047, -0.35679496, -1.57094458],\n",
              "        [-0.66951276,  0.36073056,  0.75994753, -0.14598681],\n",
              "        [-0.08487371,  0.68720426, -1.13914444,  0.3454157 ],\n",
              "        [ 0.5629359 ,  0.15735323,  0.13201485, -0.18493899],\n",
              "        [-0.06517681,  0.78820599, -0.05679932, -0.03713521],\n",
              "        [-0.9239707 , -0.6909104 , -0.90994236, -0.9502327 ],\n",
              "        [-0.37067257, -0.76752753, -0.30612362,  0.64792188]]))"
            ]
          },
          "execution_count": 57,
          "metadata": {},
          "output_type": "execute_result"
        }
      ],
      "source": [
        "names = np.array(['bob', 'joe', 'will', 'bob', 'will', 'joe', 'joe'])\n",
        "data = np.random.randn(7,4)\n",
        "names,data"
      ]
    },
    {
      "cell_type": "code",
      "execution_count": 58,
      "metadata": {
        "colab": {
          "base_uri": "https://localhost:8080/"
        },
        "id": "nLo0HrEzCF2b",
        "outputId": "e7182fab-cecb-42f5-8aea-d8463087e484"
      },
      "outputs": [
        {
          "data": {
            "text/plain": [
              "array([[-0.21126019,  0.30404047, -0.35679496, -1.57094458],\n",
              "       [ 0.5629359 ,  0.15735323,  0.13201485, -0.18493899]])"
            ]
          },
          "execution_count": 58,
          "metadata": {},
          "output_type": "execute_result"
        }
      ],
      "source": [
        "data[names == 'bob']"
      ]
    },
    {
      "cell_type": "code",
      "execution_count": 59,
      "metadata": {
        "colab": {
          "base_uri": "https://localhost:8080/"
        },
        "id": "_zXRpQI6CF2b",
        "outputId": "aa37553d-d956-4536-c5ba-298831d3f429"
      },
      "outputs": [
        {
          "data": {
            "text/plain": [
              "array([[-0.66951276,  0.36073056,  0.75994753, -0.14598681],\n",
              "       [-0.08487371,  0.68720426, -1.13914444,  0.3454157 ],\n",
              "       [-0.06517681,  0.78820599, -0.05679932, -0.03713521],\n",
              "       [-0.9239707 , -0.6909104 , -0.90994236, -0.9502327 ],\n",
              "       [-0.37067257, -0.76752753, -0.30612362,  0.64792188]])"
            ]
          },
          "execution_count": 59,
          "metadata": {},
          "output_type": "execute_result"
        }
      ],
      "source": [
        "data[~(names == 'bob')]"
      ]
    },
    {
      "cell_type": "markdown",
      "metadata": {
        "id": "pOruscaSCF2b"
      },
      "source": [
        "Fancy Index"
      ]
    },
    {
      "cell_type": "code",
      "execution_count": 60,
      "metadata": {
        "colab": {
          "base_uri": "https://localhost:8080/"
        },
        "id": "mtB4t0_fCF2b",
        "outputId": "8b6b8da8-19a0-44d2-9087-599568b15ab9"
      },
      "outputs": [
        {
          "data": {
            "text/plain": [
              "array([[0., 0., 0., 0.],\n",
              "       [1., 1., 1., 1.],\n",
              "       [2., 2., 2., 2.],\n",
              "       [3., 3., 3., 3.],\n",
              "       [4., 4., 4., 4.],\n",
              "       [5., 5., 5., 5.],\n",
              "       [6., 6., 6., 6.],\n",
              "       [7., 7., 7., 7.]])"
            ]
          },
          "execution_count": 60,
          "metadata": {},
          "output_type": "execute_result"
        }
      ],
      "source": [
        "arr = np.empty((8,4))\n",
        "for i in range(8):\n",
        "    arr[i] = i\n",
        "arr"
      ]
    },
    {
      "cell_type": "code",
      "execution_count": 61,
      "metadata": {
        "colab": {
          "base_uri": "https://localhost:8080/"
        },
        "id": "ORjceCU5CF2b",
        "outputId": "b0e9f3c8-a740-4138-ed1b-de2feaaf729e"
      },
      "outputs": [
        {
          "data": {
            "text/plain": [
              "array([[4., 4., 4., 4.],\n",
              "       [3., 3., 3., 3.],\n",
              "       [0., 0., 0., 0.],\n",
              "       [6., 6., 6., 6.]])"
            ]
          },
          "execution_count": 61,
          "metadata": {},
          "output_type": "execute_result"
        }
      ],
      "source": [
        "arr[[4,3,0,6]]"
      ]
    },
    {
      "cell_type": "code",
      "execution_count": 62,
      "metadata": {
        "colab": {
          "base_uri": "https://localhost:8080/"
        },
        "id": "EhfgZr09CF2b",
        "outputId": "2996da01-354c-427e-e75d-72731277adb5"
      },
      "outputs": [
        {
          "data": {
            "text/plain": [
              "array([[ 0,  1,  2,  3],\n",
              "       [ 4,  5,  6,  7],\n",
              "       [ 8,  9, 10, 11],\n",
              "       [12, 13, 14, 15],\n",
              "       [16, 17, 18, 19],\n",
              "       [20, 21, 22, 23],\n",
              "       [24, 25, 26, 27],\n",
              "       [28, 29, 30, 31]])"
            ]
          },
          "execution_count": 62,
          "metadata": {},
          "output_type": "execute_result"
        }
      ],
      "source": [
        "arr = np.arange(32).reshape((8,4))\n",
        "arr"
      ]
    },
    {
      "cell_type": "code",
      "execution_count": 63,
      "metadata": {
        "id": "I6Ksl--BCF2b"
      },
      "outputs": [],
      "source": [
        "arr = np.random.randn(6,3)"
      ]
    },
    {
      "cell_type": "code",
      "execution_count": 64,
      "metadata": {
        "colab": {
          "base_uri": "https://localhost:8080/"
        },
        "id": "Z7agDcQZCF2b",
        "outputId": "dbfdc5ae-f986-4f19-8802-186adb58b5d6"
      },
      "outputs": [
        {
          "data": {
            "text/plain": [
              "array([[ 1.89413492,  0.63078324, -1.15180049],\n",
              "       [-0.08497186,  1.2867645 , -0.69370577],\n",
              "       [-0.24475857,  1.53863136,  1.16052707],\n",
              "       [-1.19266944, -0.86362876,  1.60605148],\n",
              "       [-0.50059832, -0.76755245,  0.0071669 ],\n",
              "       [ 0.35785664,  0.20636308, -1.81918847]])"
            ]
          },
          "execution_count": 64,
          "metadata": {},
          "output_type": "execute_result"
        }
      ],
      "source": [
        "arr"
      ]
    },
    {
      "cell_type": "code",
      "execution_count": 65,
      "metadata": {
        "colab": {
          "base_uri": "https://localhost:8080/"
        },
        "id": "bxkN-_wUCF2b",
        "outputId": "645e5184-dd8c-4c52-c680-a9eaab93ec4f"
      },
      "outputs": [
        {
          "data": {
            "text/plain": [
              "array([[ 5.45599452,  2.19696407, -4.97685394],\n",
              "       [ 2.19696407,  5.79861394, -1.60149563],\n",
              "       [-4.97685394, -1.60149563,  9.04359459]])"
            ]
          },
          "execution_count": 65,
          "metadata": {},
          "output_type": "execute_result"
        }
      ],
      "source": [
        "np.dot(arr.T,arr)"
      ]
    },
    {
      "cell_type": "code",
      "execution_count": 66,
      "metadata": {
        "id": "l7FfcVuMCF2b"
      },
      "outputs": [],
      "source": [
        "arr = np.arange(10)"
      ]
    },
    {
      "cell_type": "code",
      "execution_count": 67,
      "metadata": {
        "colab": {
          "base_uri": "https://localhost:8080/"
        },
        "id": "Uvcl23zVCF2b",
        "outputId": "a911dddd-60ba-48cf-b256-1d57d8ea85be"
      },
      "outputs": [
        {
          "data": {
            "text/plain": [
              "array([0.        , 1.        , 1.41421356, 1.73205081, 2.        ,\n",
              "       2.23606798, 2.44948974, 2.64575131, 2.82842712, 3.        ])"
            ]
          },
          "execution_count": 67,
          "metadata": {},
          "output_type": "execute_result"
        }
      ],
      "source": [
        "np.sqrt(arr)"
      ]
    },
    {
      "cell_type": "code",
      "execution_count": 68,
      "metadata": {
        "colab": {
          "base_uri": "https://localhost:8080/"
        },
        "id": "pU6aQ2adCF2b",
        "outputId": "4361174a-d861-442e-b76b-76b41ec1b54b"
      },
      "outputs": [
        {
          "data": {
            "text/plain": [
              "array([0, 1, 2, 3, 4, 5, 6, 7, 8, 9])"
            ]
          },
          "execution_count": 68,
          "metadata": {},
          "output_type": "execute_result"
        }
      ],
      "source": [
        "arr"
      ]
    },
    {
      "cell_type": "code",
      "execution_count": 69,
      "metadata": {
        "id": "cXL6Rg2cgY4Z"
      },
      "outputs": [],
      "source": [
        "arr = np.arange(16).reshape((2,2,4))"
      ]
    },
    {
      "cell_type": "code",
      "execution_count": 70,
      "metadata": {
        "colab": {
          "base_uri": "https://localhost:8080/"
        },
        "id": "WMINm3w3gjQB",
        "outputId": "09a5b00c-0fcb-45de-f3d8-8d4b8156b093"
      },
      "outputs": [
        {
          "data": {
            "text/plain": [
              "array([[[ 0,  1,  2,  3],\n",
              "        [ 4,  5,  6,  7]],\n",
              "\n",
              "       [[ 8,  9, 10, 11],\n",
              "        [12, 13, 14, 15]]])"
            ]
          },
          "execution_count": 70,
          "metadata": {},
          "output_type": "execute_result"
        }
      ],
      "source": [
        "arr"
      ]
    },
    {
      "cell_type": "code",
      "execution_count": 71,
      "metadata": {
        "colab": {
          "base_uri": "https://localhost:8080/"
        },
        "id": "B78nZkklgk1J",
        "outputId": "3b81a26a-3396-4e0d-e7fe-af4d1b5ab7d0"
      },
      "outputs": [
        {
          "data": {
            "text/plain": [
              "array([[[ 0,  4],\n",
              "        [ 1,  5],\n",
              "        [ 2,  6],\n",
              "        [ 3,  7]],\n",
              "\n",
              "       [[ 8, 12],\n",
              "        [ 9, 13],\n",
              "        [10, 14],\n",
              "        [11, 15]]])"
            ]
          },
          "execution_count": 71,
          "metadata": {},
          "output_type": "execute_result"
        }
      ],
      "source": [
        "arr.swapaxes(1, 2)"
      ]
    },
    {
      "cell_type": "code",
      "execution_count": 72,
      "metadata": {
        "id": "RZnzvOCsgzfb"
      },
      "outputs": [],
      "source": [
        "arr = np.arange(10)"
      ]
    },
    {
      "cell_type": "code",
      "execution_count": 73,
      "metadata": {
        "colab": {
          "base_uri": "https://localhost:8080/"
        },
        "id": "d-nXOVnd17HG",
        "outputId": "5cb41686-46f9-46d1-cd58-135e89e6fe39"
      },
      "outputs": [
        {
          "data": {
            "text/plain": [
              "array([0.        , 1.        , 1.41421356, 1.73205081, 2.        ,\n",
              "       2.23606798, 2.44948974, 2.64575131, 2.82842712, 3.        ])"
            ]
          },
          "execution_count": 73,
          "metadata": {},
          "output_type": "execute_result"
        }
      ],
      "source": [
        "np.sqrt(arr)"
      ]
    },
    {
      "cell_type": "code",
      "execution_count": 74,
      "metadata": {
        "colab": {
          "base_uri": "https://localhost:8080/"
        },
        "id": "maznajce2EhO",
        "outputId": "3c8ef800-0572-4412-f6c0-457bef600511"
      },
      "outputs": [
        {
          "data": {
            "text/plain": [
              "array([1.00000000e+00, 2.71828183e+00, 7.38905610e+00, 2.00855369e+01,\n",
              "       5.45981500e+01, 1.48413159e+02, 4.03428793e+02, 1.09663316e+03,\n",
              "       2.98095799e+03, 8.10308393e+03])"
            ]
          },
          "execution_count": 74,
          "metadata": {},
          "output_type": "execute_result"
        }
      ],
      "source": [
        "np.exp(arr)"
      ]
    },
    {
      "cell_type": "code",
      "execution_count": 75,
      "metadata": {
        "id": "6An2pCAR2KbG"
      },
      "outputs": [],
      "source": [
        "x = np.random.randn(8)"
      ]
    },
    {
      "cell_type": "code",
      "execution_count": 76,
      "metadata": {
        "id": "Hj51Uj7H2cR_"
      },
      "outputs": [],
      "source": [
        "y = np.random.randn(8)"
      ]
    },
    {
      "cell_type": "code",
      "execution_count": 77,
      "metadata": {
        "colab": {
          "base_uri": "https://localhost:8080/"
        },
        "id": "UcEB4bl02hCm",
        "outputId": "da4a46a5-f84c-4a28-847e-6d48eac5be69"
      },
      "outputs": [
        {
          "name": "stdout",
          "output_type": "stream",
          "text": [
            "[-0.33643913  1.53403476  0.70555564  0.90017905  0.51632283  0.46202404\n",
            " -0.09265694 -0.86555154] [-2.91465105 -0.06994805 -0.18774416 -0.03610816 -1.21923896 -1.74239151\n",
            " -0.4196097  -0.83918731]\n"
          ]
        }
      ],
      "source": [
        "print(x, y)"
      ]
    },
    {
      "cell_type": "code",
      "execution_count": 78,
      "metadata": {
        "colab": {
          "base_uri": "https://localhost:8080/"
        },
        "id": "8aTfUXTV2iYH",
        "outputId": "586a8f97-6325-4b51-d27a-486d3a3ab9f7"
      },
      "outputs": [
        {
          "data": {
            "text/plain": [
              "array([-0.33643913,  1.53403476,  0.70555564,  0.90017905,  0.51632283,\n",
              "        0.46202404, -0.09265694, -0.83918731])"
            ]
          },
          "execution_count": 78,
          "metadata": {},
          "output_type": "execute_result"
        }
      ],
      "source": [
        "np.maximum(x, y)"
      ]
    },
    {
      "cell_type": "code",
      "execution_count": 79,
      "metadata": {
        "id": "9CIM9kMn2nDv"
      },
      "outputs": [],
      "source": [
        "arr = np.random.randn(7)*5"
      ]
    },
    {
      "cell_type": "code",
      "execution_count": 80,
      "metadata": {
        "colab": {
          "base_uri": "https://localhost:8080/"
        },
        "id": "kbHQFdmP28_h",
        "outputId": "52b46b2b-7ae6-4ace-8e6b-d4e2c0289a3b"
      },
      "outputs": [
        {
          "data": {
            "text/plain": [
              "array([  0.61242317,  -4.28747397,   1.96886949,  -6.28088575,\n",
              "        -1.49987545,  -4.1204414 , -11.55296847])"
            ]
          },
          "execution_count": 80,
          "metadata": {},
          "output_type": "execute_result"
        }
      ],
      "source": [
        "arr"
      ]
    },
    {
      "cell_type": "code",
      "execution_count": 81,
      "metadata": {
        "id": "uNRFZ0on2-qh"
      },
      "outputs": [],
      "source": [
        "reminder, whole_part = np.modf(arr)"
      ]
    },
    {
      "cell_type": "code",
      "execution_count": 82,
      "metadata": {
        "colab": {
          "base_uri": "https://localhost:8080/"
        },
        "id": "j9FIUjv-3bKo",
        "outputId": "1addd472-ecfd-44ac-b7dd-79da68e88ca8"
      },
      "outputs": [
        {
          "name": "stdout",
          "output_type": "stream",
          "text": [
            "[ 0.61242317 -0.28747397  0.96886949 -0.28088575 -0.49987545 -0.1204414\n",
            " -0.55296847] [  0.  -4.   1.  -6.  -1.  -4. -11.]\n"
          ]
        }
      ],
      "source": [
        "print(reminder, whole_part)"
      ]
    },
    {
      "cell_type": "code",
      "execution_count": 83,
      "metadata": {
        "colab": {
          "base_uri": "https://localhost:8080/"
        },
        "id": "yCu_aLQ43uYL",
        "outputId": "fccaf8e4-7398-450d-a059-5cd9285dc49d"
      },
      "outputs": [
        {
          "name": "stderr",
          "output_type": "stream",
          "text": [
            "C:\\Users\\admin\\AppData\\Local\\Temp\\ipykernel_6648\\2296558006.py:1: RuntimeWarning: invalid value encountered in sqrt\n",
            "  np.sqrt(arr)\n"
          ]
        },
        {
          "data": {
            "text/plain": [
              "array([0.7825747,       nan, 1.4031641,       nan,       nan,       nan,\n",
              "             nan])"
            ]
          },
          "execution_count": 83,
          "metadata": {},
          "output_type": "execute_result"
        }
      ],
      "source": [
        "np.sqrt(arr)"
      ]
    },
    {
      "cell_type": "code",
      "execution_count": 84,
      "metadata": {
        "colab": {
          "base_uri": "https://localhost:8080/"
        },
        "id": "7rDGYo5r3zKT",
        "outputId": "f9f6db64-460e-466e-f118-d13c69fece99"
      },
      "outputs": [
        {
          "name": "stderr",
          "output_type": "stream",
          "text": [
            "C:\\Users\\admin\\AppData\\Local\\Temp\\ipykernel_6648\\269955669.py:1: RuntimeWarning: invalid value encountered in sqrt\n",
            "  np.sqrt(arr, arr)\n"
          ]
        },
        {
          "data": {
            "text/plain": [
              "array([0.7825747,       nan, 1.4031641,       nan,       nan,       nan,\n",
              "             nan])"
            ]
          },
          "execution_count": 84,
          "metadata": {},
          "output_type": "execute_result"
        }
      ],
      "source": [
        "np.sqrt(arr, arr)"
      ]
    },
    {
      "cell_type": "code",
      "execution_count": 85,
      "metadata": {
        "id": "beuH43zG4xNJ"
      },
      "outputs": [],
      "source": [
        "points = np.arange(-5, 5 , 0.01)"
      ]
    },
    {
      "cell_type": "code",
      "execution_count": 87,
      "metadata": {
        "id": "uIAjog5L5G74"
      },
      "outputs": [],
      "source": [
        "xs, ys = np.meshgrid(points, points)"
      ]
    },
    {
      "cell_type": "code",
      "execution_count": 88,
      "metadata": {
        "colab": {
          "base_uri": "https://localhost:8080/"
        },
        "id": "5AemNT115gQo",
        "outputId": "20475df8-4226-409b-8710-0ff8e5293c15"
      },
      "outputs": [
        {
          "data": {
            "text/plain": [
              "array([[-5.  , -5.  , -5.  , ..., -5.  , -5.  , -5.  ],\n",
              "       [-4.99, -4.99, -4.99, ..., -4.99, -4.99, -4.99],\n",
              "       [-4.98, -4.98, -4.98, ..., -4.98, -4.98, -4.98],\n",
              "       ...,\n",
              "       [ 4.97,  4.97,  4.97, ...,  4.97,  4.97,  4.97],\n",
              "       [ 4.98,  4.98,  4.98, ...,  4.98,  4.98,  4.98],\n",
              "       [ 4.99,  4.99,  4.99, ...,  4.99,  4.99,  4.99]])"
            ]
          },
          "execution_count": 88,
          "metadata": {},
          "output_type": "execute_result"
        }
      ],
      "source": [
        "ys"
      ]
    },
    {
      "cell_type": "code",
      "execution_count": 89,
      "metadata": {
        "id": "kVtOfA535ho4"
      },
      "outputs": [],
      "source": [
        "z = np.sqrt(xs**2 + ys**2)"
      ]
    },
    {
      "cell_type": "code",
      "execution_count": 90,
      "metadata": {
        "colab": {
          "base_uri": "https://localhost:8080/"
        },
        "id": "I6Vil8id5xNo",
        "outputId": "c28e6baf-02bd-4c61-bf08-1b65ace60066"
      },
      "outputs": [
        {
          "data": {
            "text/plain": [
              "array([[7.07106781, 7.06400028, 7.05693985, ..., 7.04988652, 7.05693985,\n",
              "        7.06400028],\n",
              "       [7.06400028, 7.05692568, 7.04985815, ..., 7.04279774, 7.04985815,\n",
              "        7.05692568],\n",
              "       [7.05693985, 7.04985815, 7.04278354, ..., 7.03571603, 7.04278354,\n",
              "        7.04985815],\n",
              "       ...,\n",
              "       [7.04988652, 7.04279774, 7.03571603, ..., 7.0286414 , 7.03571603,\n",
              "        7.04279774],\n",
              "       [7.05693985, 7.04985815, 7.04278354, ..., 7.03571603, 7.04278354,\n",
              "        7.04985815],\n",
              "       [7.06400028, 7.05692568, 7.04985815, ..., 7.04279774, 7.04985815,\n",
              "        7.05692568]])"
            ]
          },
          "execution_count": 90,
          "metadata": {},
          "output_type": "execute_result"
        }
      ],
      "source": [
        "z"
      ]
    },
    {
      "cell_type": "code",
      "execution_count": 91,
      "metadata": {
        "id": "BDvt6ALI5xzv"
      },
      "outputs": [],
      "source": [
        "import matplotlib.pyplot as plt"
      ]
    },
    {
      "cell_type": "code",
      "execution_count": 92,
      "metadata": {
        "colab": {
          "base_uri": "https://localhost:8080/",
          "height": 452
        },
        "id": "3lFmxTBq58Xo",
        "outputId": "27f8059b-0649-48bc-9e21-6ae24ae69509"
      },
      "outputs": [
        {
          "data": {
            "text/plain": [
              "<matplotlib.colorbar.Colorbar at 0x1ec095edcd0>"
            ]
          },
          "execution_count": 92,
          "metadata": {},
          "output_type": "execute_result"
        },
        {
          "data": {
            "image/png": "[encoded data removed]",
            "text/plain": [
              "<Figure size 640x480 with 2 Axes>"
            ]
          },
          "metadata": {},
          "output_type": "display_data"
        }
      ],
      "source": [
        "plt.imshow(z, cmap=plt.cm.gray); plt.colorbar()"
      ]
    },
    {
      "cell_type": "code",
      "execution_count": 93,
      "metadata": {
        "id": "AZ-QyfdI6K2g"
      },
      "outputs": [],
      "source": [
        "xarr  = np.array([1.1, 1.2, 1.3, 1.4, 1.5])"
      ]
    },
    {
      "cell_type": "code",
      "execution_count": 94,
      "metadata": {
        "id": "GPnCPevB6q2I"
      },
      "outputs": [],
      "source": [
        "yarr = np.array([2.1, 2.2, 2.3, 2.4, 2.5])"
      ]
    },
    {
      "cell_type": "code",
      "execution_count": 95,
      "metadata": {
        "id": "auVK_qE46ynA"
      },
      "outputs": [],
      "source": [
        "cond = np.array([True, False, True, True, False])"
      ]
    },
    {
      "cell_type": "code",
      "execution_count": 96,
      "metadata": {
        "id": "cIIdrjlE624D"
      },
      "outputs": [],
      "source": [
        "result = [(x if c else y)\n",
        "          for x, y, c in zip(xarr, yarr, cond)]"
      ]
    },
    {
      "cell_type": "code",
      "execution_count": 97,
      "metadata": {
        "colab": {
          "base_uri": "https://localhost:8080/"
        },
        "id": "hi0sH-kU7M-O",
        "outputId": "c46a7263-0f6f-4bc3-f748-bced7571702e"
      },
      "outputs": [
        {
          "data": {
            "text/plain": [
              "[1.1, 2.2, 1.3, 1.4, 2.5]"
            ]
          },
          "execution_count": 97,
          "metadata": {},
          "output_type": "execute_result"
        }
      ],
      "source": [
        "result"
      ]
    },
    {
      "cell_type": "code",
      "execution_count": 98,
      "metadata": {
        "id": "21gFEL2X7Olu"
      },
      "outputs": [],
      "source": [
        "result = np.where(cond, xarr, yarr)"
      ]
    },
    {
      "cell_type": "code",
      "execution_count": 99,
      "metadata": {
        "colab": {
          "base_uri": "https://localhost:8080/"
        },
        "id": "elOuOmIN7alC",
        "outputId": "0227aeee-a939-40a6-8466-268733320bcc"
      },
      "outputs": [
        {
          "data": {
            "text/plain": [
              "array([1.1, 2.2, 1.3, 1.4, 2.5])"
            ]
          },
          "execution_count": 99,
          "metadata": {},
          "output_type": "execute_result"
        }
      ],
      "source": [
        "result"
      ]
    },
    {
      "cell_type": "code",
      "execution_count": 100,
      "metadata": {
        "id": "U1dgSzng7bo6"
      },
      "outputs": [],
      "source": [
        "arr = np.random.randn(4,4)"
      ]
    },
    {
      "cell_type": "code",
      "execution_count": 101,
      "metadata": {
        "colab": {
          "base_uri": "https://localhost:8080/"
        },
        "id": "vh2-DCaG7kF-",
        "outputId": "fedadb54-6a20-44c3-e6a1-af564fd9be0f"
      },
      "outputs": [
        {
          "data": {
            "text/plain": [
              "array([[ True, False,  True,  True],\n",
              "       [ True,  True, False,  True],\n",
              "       [ True, False,  True, False],\n",
              "       [ True, False, False,  True]])"
            ]
          },
          "execution_count": 101,
          "metadata": {},
          "output_type": "execute_result"
        }
      ],
      "source": [
        "arr>0"
      ]
    },
    {
      "cell_type": "code",
      "execution_count": 102,
      "metadata": {
        "colab": {
          "base_uri": "https://localhost:8080/"
        },
        "id": "E9uqOyDv7lIt",
        "outputId": "5682f04f-4c7e-4cd9-a1cc-5ba4d3a483bf"
      },
      "outputs": [
        {
          "data": {
            "text/plain": [
              "array([[ 2, -2,  2,  2],\n",
              "       [ 2,  2, -2,  2],\n",
              "       [ 2, -2,  2, -2],\n",
              "       [ 2, -2, -2,  2]])"
            ]
          },
          "execution_count": 102,
          "metadata": {},
          "output_type": "execute_result"
        }
      ],
      "source": [
        "\n",
        "np.where(arr>0, 2, -2)"
      ]
    },
    {
      "cell_type": "code",
      "execution_count": 103,
      "metadata": {
        "colab": {
          "base_uri": "https://localhost:8080/"
        },
        "id": "u8FDnzd67xei",
        "outputId": "d38678c6-6b50-41d9-9697-39255a1bdff1"
      },
      "outputs": [
        {
          "data": {
            "text/plain": [
              "array([[ 2.        , -0.12588355,  2.        ,  2.        ],\n",
              "       [ 2.        ,  2.        , -0.88037671,  2.        ],\n",
              "       [ 2.        , -2.42040688,  2.        , -0.00592823],\n",
              "       [ 2.        , -0.7619951 , -0.7160243 ,  2.        ]])"
            ]
          },
          "execution_count": 103,
          "metadata": {},
          "output_type": "execute_result"
        }
      ],
      "source": [
        "np.where(arr>0, 2, arr)"
      ]
    },
    {
      "cell_type": "markdown",
      "metadata": {
        "id": "e6ymMTgf75o8"
      },
      "source": [
        "Mathematical and statistic methods"
      ]
    },
    {
      "cell_type": "code",
      "execution_count": 104,
      "metadata": {
        "colab": {
          "base_uri": "https://localhost:8080/"
        },
        "id": "HnxxK7ST7-wz",
        "outputId": "ada66e79-974e-483c-e598-f944adbd5ee8"
      },
      "outputs": [
        {
          "data": {
            "text/plain": [
              "array([[ 0.54837999,  0.34838494, -0.42683956,  1.00405538],\n",
              "       [ 0.18785443, -1.38222706, -0.97054305,  0.67350827],\n",
              "       [-0.51885585, -0.05072737,  0.46947371,  0.30844021],\n",
              "       [-0.94526681, -0.8466369 ,  0.52898741, -0.20707469],\n",
              "       [-1.60089876,  0.33449966,  0.29670468, -0.68450724]])"
            ]
          },
          "execution_count": 104,
          "metadata": {},
          "output_type": "execute_result"
        }
      ],
      "source": [
        "arr = np.random.randn(5,4)\n",
        "arr"
      ]
    },
    {
      "cell_type": "code",
      "execution_count": 105,
      "metadata": {
        "colab": {
          "base_uri": "https://localhost:8080/"
        },
        "id": "PYYfstxO8HE7",
        "outputId": "4a0a3458-1673-42c9-9b75-bc184a7bfe0e"
      },
      "outputs": [
        {
          "data": {
            "text/plain": [
              "-0.14666442978433908"
            ]
          },
          "execution_count": 105,
          "metadata": {},
          "output_type": "execute_result"
        }
      ],
      "source": [
        "arr.mean()"
      ]
    },
    {
      "cell_type": "code",
      "execution_count": 106,
      "metadata": {
        "colab": {
          "base_uri": "https://localhost:8080/"
        },
        "id": "W3732Zt88KvL",
        "outputId": "52bac7e4-cfa9-4029-da14-1cdb348c32f5"
      },
      "outputs": [
        {
          "data": {
            "text/plain": [
              "-0.14666442978433908"
            ]
          },
          "execution_count": 106,
          "metadata": {},
          "output_type": "execute_result"
        }
      ],
      "source": [
        "np.mean(arr)"
      ]
    },
    {
      "cell_type": "code",
      "execution_count": 107,
      "metadata": {
        "colab": {
          "base_uri": "https://localhost:8080/"
        },
        "id": "cJxOtq818Os7",
        "outputId": "e2f25407-29e5-490a-e239-7ed432bdf365"
      },
      "outputs": [
        {
          "data": {
            "text/plain": [
              "-2.933288595686782"
            ]
          },
          "execution_count": 107,
          "metadata": {},
          "output_type": "execute_result"
        }
      ],
      "source": [
        "arr.sum()"
      ]
    },
    {
      "cell_type": "code",
      "execution_count": 108,
      "metadata": {
        "colab": {
          "base_uri": "https://localhost:8080/"
        },
        "id": "m7rjw2e58QZr",
        "outputId": "99c6f8dc-d3d1-4c88-899a-63423b9cb88e"
      },
      "outputs": [
        {
          "data": {
            "text/plain": [
              "array([ 0.36849519, -0.37285185,  0.05208267, -0.36749775, -0.41355041])"
            ]
          },
          "execution_count": 108,
          "metadata": {},
          "output_type": "execute_result"
        }
      ],
      "source": [
        "arr.mean(axis=1)"
      ]
    },
    {
      "cell_type": "code",
      "execution_count": 109,
      "metadata": {
        "colab": {
          "base_uri": "https://localhost:8080/"
        },
        "id": "fP4vMbNP8ewb",
        "outputId": "e59cc784-3874-496b-d3c3-57062042cd7e"
      },
      "outputs": [
        {
          "data": {
            "text/plain": [
              "array([[ 0.54837999,  0.34838494, -0.42683956,  1.00405538],\n",
              "       [ 0.18785443, -1.38222706, -0.97054305,  0.67350827],\n",
              "       [-0.51885585, -0.05072737,  0.46947371,  0.30844021],\n",
              "       [-0.94526681, -0.8466369 ,  0.52898741, -0.20707469],\n",
              "       [-1.60089876,  0.33449966,  0.29670468, -0.68450724]])"
            ]
          },
          "execution_count": 109,
          "metadata": {},
          "output_type": "execute_result"
        }
      ],
      "source": [
        "arr"
      ]
    },
    {
      "cell_type": "code",
      "execution_count": 110,
      "metadata": {
        "colab": {
          "base_uri": "https://localhost:8080/"
        },
        "id": "0tYFPaSc8gRz",
        "outputId": "cd60c072-7c09-4ce2-f0c6-5ed2c519a5c4"
      },
      "outputs": [
        {
          "data": {
            "text/plain": [
              "array([-2.32878699, -1.59670673, -0.10221681,  1.09442194])"
            ]
          },
          "execution_count": 110,
          "metadata": {},
          "output_type": "execute_result"
        }
      ],
      "source": [
        "arr.sum(axis = 0)"
      ]
    },
    {
      "cell_type": "code",
      "execution_count": 111,
      "metadata": {
        "id": "1Porgl9N8y47"
      },
      "outputs": [],
      "source": [
        "arr = np.array([0, 1, 2, 3, 4, 5, 6, 7])"
      ]
    },
    {
      "cell_type": "code",
      "execution_count": 112,
      "metadata": {
        "colab": {
          "base_uri": "https://localhost:8080/"
        },
        "id": "0Hk4nanl9Jkj",
        "outputId": "7a23fbf0-2b34-4665-8e90-826021b7b663"
      },
      "outputs": [
        {
          "data": {
            "text/plain": [
              "array([ 0,  1,  3,  6, 10, 15, 21, 28])"
            ]
          },
          "execution_count": 112,
          "metadata": {},
          "output_type": "execute_result"
        }
      ],
      "source": [
        "arr.cumsum()"
      ]
    },
    {
      "cell_type": "code",
      "execution_count": 113,
      "metadata": {
        "id": "eC73dAlV9ZHz"
      },
      "outputs": [],
      "source": [
        "arr = np.array([[0,1,2], [3,4,5],[6,7,8]])"
      ]
    },
    {
      "cell_type": "code",
      "execution_count": 114,
      "metadata": {
        "colab": {
          "base_uri": "https://localhost:8080/"
        },
        "id": "XLFrPXil90Pj",
        "outputId": "f1aea5cc-abe9-47a9-ba76-a543ec2b4ccf"
      },
      "outputs": [
        {
          "data": {
            "text/plain": [
              "array([[0, 1, 2],\n",
              "       [3, 4, 5],\n",
              "       [6, 7, 8]])"
            ]
          },
          "execution_count": 114,
          "metadata": {},
          "output_type": "execute_result"
        }
      ],
      "source": [
        "arr"
      ]
    },
    {
      "cell_type": "code",
      "execution_count": 115,
      "metadata": {
        "colab": {
          "base_uri": "https://localhost:8080/"
        },
        "id": "2s3HgWcG91KT",
        "outputId": "ea9ce378-7b54-4dc5-8383-279aa5e2dbc0"
      },
      "outputs": [
        {
          "data": {
            "text/plain": [
              "array([[ 0,  1,  2],\n",
              "       [ 3,  5,  7],\n",
              "       [ 9, 12, 15]])"
            ]
          },
          "execution_count": 115,
          "metadata": {},
          "output_type": "execute_result"
        }
      ],
      "source": [
        "arr.cumsum(axis = 0)"
      ]
    },
    {
      "cell_type": "code",
      "execution_count": 116,
      "metadata": {
        "colab": {
          "base_uri": "https://localhost:8080/"
        },
        "id": "0mQ0_K7H94fb",
        "outputId": "f2a3172d-1f86-45e7-dcf8-944abd78ee11"
      },
      "outputs": [
        {
          "data": {
            "text/plain": [
              "array([[  0,   0,   0],\n",
              "       [  3,  12,  60],\n",
              "       [  6,  42, 336]])"
            ]
          },
          "execution_count": 116,
          "metadata": {},
          "output_type": "execute_result"
        }
      ],
      "source": [
        "arr.cumprod(axis =1 )"
      ]
    },
    {
      "cell_type": "code",
      "execution_count": 117,
      "metadata": {
        "id": "XiwDOeft97iL"
      },
      "outputs": [],
      "source": [
        "arr = np.random.randn(100)"
      ]
    },
    {
      "cell_type": "code",
      "execution_count": 118,
      "metadata": {
        "colab": {
          "base_uri": "https://localhost:8080/"
        },
        "id": "JNJpcMPp-Q3b",
        "outputId": "3a5ac8de-2b02-45e0-c262-e003e28be5b0"
      },
      "outputs": [
        {
          "data": {
            "text/plain": [
              "56"
            ]
          },
          "execution_count": 118,
          "metadata": {},
          "output_type": "execute_result"
        }
      ],
      "source": [
        "(arr > 0).sum()"
      ]
    },
    {
      "cell_type": "code",
      "execution_count": 119,
      "metadata": {
        "id": "OmQhyMk1-U6r"
      },
      "outputs": [],
      "source": [
        "bools = np.array([False, False, True, False])\n"
      ]
    },
    {
      "cell_type": "code",
      "execution_count": 120,
      "metadata": {
        "colab": {
          "base_uri": "https://localhost:8080/"
        },
        "id": "WoXKkovw-dsz",
        "outputId": "d5888d0a-a78a-4291-bb59-548d5d4f71ab"
      },
      "outputs": [
        {
          "data": {
            "text/plain": [
              "True"
            ]
          },
          "execution_count": 120,
          "metadata": {},
          "output_type": "execute_result"
        }
      ],
      "source": [
        "bools.any()"
      ]
    },
    {
      "cell_type": "code",
      "execution_count": 121,
      "metadata": {
        "colab": {
          "base_uri": "https://localhost:8080/"
        },
        "id": "DNZ9dEqA-fcD",
        "outputId": "821ba531-c0c6-4400-84ca-cb17a14bb343"
      },
      "outputs": [
        {
          "data": {
            "text/plain": [
              "False"
            ]
          },
          "execution_count": 121,
          "metadata": {},
          "output_type": "execute_result"
        }
      ],
      "source": [
        "bools.all()"
      ]
    },
    {
      "cell_type": "code",
      "execution_count": 122,
      "metadata": {
        "id": "xJIqJwFe-kuL"
      },
      "outputs": [],
      "source": [
        "arr = np.random.randn(6)"
      ]
    },
    {
      "cell_type": "code",
      "execution_count": 123,
      "metadata": {
        "colab": {
          "base_uri": "https://localhost:8080/"
        },
        "id": "o7uHbndl-q37",
        "outputId": "d654dd7e-7cc1-4ead-c405-74d10b2146ba"
      },
      "outputs": [
        {
          "data": {
            "text/plain": [
              "array([-0.13504742, -0.4328896 ,  0.08317906,  0.13127486, -0.79592489,\n",
              "       -0.20827801])"
            ]
          },
          "execution_count": 123,
          "metadata": {},
          "output_type": "execute_result"
        }
      ],
      "source": [
        "arr"
      ]
    },
    {
      "cell_type": "code",
      "execution_count": 124,
      "metadata": {
        "id": "mCK14aVT-rLb"
      },
      "outputs": [],
      "source": [
        "arr.sort()"
      ]
    },
    {
      "cell_type": "code",
      "execution_count": 125,
      "metadata": {
        "colab": {
          "base_uri": "https://localhost:8080/"
        },
        "id": "KO7qleIa-sLr",
        "outputId": "73f563a8-8a51-41d6-d781-86a1bf3141f9"
      },
      "outputs": [
        {
          "data": {
            "text/plain": [
              "array([-0.79592489, -0.4328896 , -0.20827801, -0.13504742,  0.08317906,\n",
              "        0.13127486])"
            ]
          },
          "execution_count": 125,
          "metadata": {},
          "output_type": "execute_result"
        }
      ],
      "source": [
        "arr"
      ]
    },
    {
      "cell_type": "code",
      "execution_count": 126,
      "metadata": {
        "id": "UBPqljCz-u2W"
      },
      "outputs": [],
      "source": [
        "arr = np.random.randn(5,3)"
      ]
    },
    {
      "cell_type": "code",
      "execution_count": 127,
      "metadata": {
        "colab": {
          "base_uri": "https://localhost:8080/"
        },
        "id": "4XFJsZRI-z8m",
        "outputId": "fd1c24e8-80dc-4af8-93c7-a35d8770fbbc"
      },
      "outputs": [
        {
          "data": {
            "text/plain": [
              "array([[ 0.71977922, -1.04682355, -1.6952777 ],\n",
              "       [ 0.39990402,  1.2124756 ,  0.13171366],\n",
              "       [ 0.09740052, -0.58357185, -1.00226477],\n",
              "       [-0.09997888,  0.06676777,  1.3745965 ],\n",
              "       [ 1.10551214,  2.94140787,  2.1043411 ]])"
            ]
          },
          "execution_count": 127,
          "metadata": {},
          "output_type": "execute_result"
        }
      ],
      "source": [
        "arr"
      ]
    },
    {
      "cell_type": "code",
      "execution_count": 128,
      "metadata": {
        "id": "4fW4OBzi-0W9"
      },
      "outputs": [],
      "source": [
        "arr.sort(1)"
      ]
    },
    {
      "cell_type": "code",
      "execution_count": 129,
      "metadata": {
        "colab": {
          "base_uri": "https://localhost:8080/"
        },
        "id": "Y0fyDUoH-3bu",
        "outputId": "6886c01c-3f68-46f7-cc98-dc702c2c122b"
      },
      "outputs": [
        {
          "data": {
            "text/plain": [
              "array([[-1.6952777 , -1.04682355,  0.71977922],\n",
              "       [ 0.13171366,  0.39990402,  1.2124756 ],\n",
              "       [-1.00226477, -0.58357185,  0.09740052],\n",
              "       [-0.09997888,  0.06676777,  1.3745965 ],\n",
              "       [ 1.10551214,  2.1043411 ,  2.94140787]])"
            ]
          },
          "execution_count": 129,
          "metadata": {},
          "output_type": "execute_result"
        }
      ],
      "source": [
        "arr"
      ]
    },
    {
      "cell_type": "code",
      "execution_count": 130,
      "metadata": {
        "id": "MtemeIR4-4E2"
      },
      "outputs": [],
      "source": [
        "large_arr = np.random.randn(1000)"
      ]
    },
    {
      "cell_type": "code",
      "execution_count": 131,
      "metadata": {
        "id": "Jh4eUHKs-_b6"
      },
      "outputs": [],
      "source": [
        "large_arr.sort()"
      ]
    },
    {
      "cell_type": "code",
      "execution_count": 132,
      "metadata": {
        "colab": {
          "base_uri": "https://localhost:8080/"
        },
        "id": "1MbdqU3t_CSK",
        "outputId": "f3513beb-ef8a-4b6f-fcf2-cada6ce02e57"
      },
      "outputs": [
        {
          "data": {
            "text/plain": [
              "-1.6612066523439113"
            ]
          },
          "execution_count": 132,
          "metadata": {},
          "output_type": "execute_result"
        }
      ],
      "source": [
        "large_arr[int(0.05*len(large_arr))]"
      ]
    },
    {
      "cell_type": "code",
      "execution_count": 133,
      "metadata": {
        "id": "DH7vY8UG_OZW"
      },
      "outputs": [],
      "source": [
        "names = np.array(['a', 'b','c', 'a', 'c', 'b', 'b'])"
      ]
    },
    {
      "cell_type": "code",
      "execution_count": 134,
      "metadata": {
        "colab": {
          "base_uri": "https://localhost:8080/"
        },
        "id": "2QCLowCV_upG",
        "outputId": "54da09c0-22ed-48f4-e6e7-c435b84c7ad5"
      },
      "outputs": [
        {
          "data": {
            "text/plain": [
              "array(['a', 'b', 'c'], dtype='<U1')"
            ]
          },
          "execution_count": 134,
          "metadata": {},
          "output_type": "execute_result"
        }
      ],
      "source": [
        "np.unique(names)"
      ]
    },
    {
      "cell_type": "code",
      "execution_count": 135,
      "metadata": {
        "id": "IMr_VklW_1B2"
      },
      "outputs": [],
      "source": [
        "ints = np.array([3,3,3,2,2,1,1,4,4])"
      ]
    },
    {
      "cell_type": "code",
      "execution_count": 136,
      "metadata": {
        "colab": {
          "base_uri": "https://localhost:8080/"
        },
        "id": "CZW1AwuMANKP",
        "outputId": "7296dfef-e435-473e-ffe2-f9da4c3fc519"
      },
      "outputs": [
        {
          "data": {
            "text/plain": [
              "array([1, 2, 3, 4])"
            ]
          },
          "execution_count": 136,
          "metadata": {},
          "output_type": "execute_result"
        }
      ],
      "source": [
        "np.unique(ints)"
      ]
    },
    {
      "cell_type": "code",
      "execution_count": 137,
      "metadata": {
        "id": "odgBL7NnAlN3"
      },
      "outputs": [],
      "source": [
        "values = np.array([6,0,0,3,2,5,6])"
      ]
    },
    {
      "cell_type": "code",
      "execution_count": 138,
      "metadata": {
        "colab": {
          "base_uri": "https://localhost:8080/"
        },
        "id": "oyPJJpCYAu8J",
        "outputId": "810ac56a-8bc9-46c6-f443-a58da9e82a21"
      },
      "outputs": [
        {
          "data": {
            "text/plain": [
              "array([ True, False, False,  True,  True, False,  True])"
            ]
          },
          "execution_count": 138,
          "metadata": {},
          "output_type": "execute_result"
        }
      ],
      "source": [
        "np.in1d(values, [2,3,6])"
      ]
    },
    {
      "cell_type": "code",
      "execution_count": 139,
      "metadata": {
        "id": "tPrDu3xpA6-Q"
      },
      "outputs": [],
      "source": [
        "arr = np.arange(10)"
      ]
    },
    {
      "cell_type": "code",
      "execution_count": 140,
      "metadata": {
        "id": "v2Y1SphNBDlg"
      },
      "outputs": [],
      "source": [
        "np.save('some_array',arr)"
      ]
    },
    {
      "cell_type": "code",
      "execution_count": 141,
      "metadata": {
        "colab": {
          "base_uri": "https://localhost:8080/"
        },
        "id": "IEO35STrBHs4",
        "outputId": "7cc78041-487e-4a63-d01f-467a91fa281c"
      },
      "outputs": [
        {
          "data": {
            "text/plain": [
              "array([0, 1, 2, 3, 4, 5, 6, 7, 8, 9])"
            ]
          },
          "execution_count": 141,
          "metadata": {},
          "output_type": "execute_result"
        }
      ],
      "source": [
        "np.load('some_array.npy')"
      ]
    },
    {
      "cell_type": "code",
      "execution_count": 142,
      "metadata": {
        "id": "81r04hKKBlho"
      },
      "outputs": [],
      "source": [
        "np.savez('array_archive.npz', a = arr, b = arr)"
      ]
    },
    {
      "cell_type": "code",
      "execution_count": 143,
      "metadata": {
        "id": "wIdyt5niB0bg"
      },
      "outputs": [],
      "source": [
        "arch = np.load('array_archive.npz')"
      ]
    },
    {
      "cell_type": "code",
      "execution_count": 144,
      "metadata": {
        "colab": {
          "base_uri": "https://localhost:8080/"
        },
        "id": "FCAGPDRaB7FQ",
        "outputId": "25feef2d-d753-4e6d-aac1-e1d35e2520c6"
      },
      "outputs": [
        {
          "data": {
            "text/plain": [
              "array([0, 1, 2, 3, 4, 5, 6, 7, 8, 9])"
            ]
          },
          "execution_count": 144,
          "metadata": {},
          "output_type": "execute_result"
        }
      ],
      "source": [
        "arch['a']"
      ]
    },
    {
      "cell_type": "markdown",
      "metadata": {
        "id": "jHnejqZHCGus"
      },
      "source": [
        "Linear Algebra"
      ]
    },
    {
      "cell_type": "code",
      "execution_count": 145,
      "metadata": {
        "id": "rZaC8FARCK1w"
      },
      "outputs": [],
      "source": [
        "x = np.array([[1,2,3], [4,5,6]])"
      ]
    },
    {
      "cell_type": "code",
      "execution_count": 146,
      "metadata": {
        "id": "LtwVsmXDCStA"
      },
      "outputs": [],
      "source": [
        "y = np.array([[6,23], [-1,7], [8,9]])"
      ]
    },
    {
      "cell_type": "code",
      "execution_count": 147,
      "metadata": {
        "colab": {
          "base_uri": "https://localhost:8080/"
        },
        "id": "yBpKW_MsCcNg",
        "outputId": "bfbd1cb7-74d5-48f8-bc87-eac9299cbffe"
      },
      "outputs": [
        {
          "data": {
            "text/plain": [
              "array([[1, 2, 3],\n",
              "       [4, 5, 6]])"
            ]
          },
          "execution_count": 147,
          "metadata": {},
          "output_type": "execute_result"
        }
      ],
      "source": [
        "x"
      ]
    },
    {
      "cell_type": "code",
      "execution_count": 148,
      "metadata": {
        "colab": {
          "base_uri": "https://localhost:8080/"
        },
        "id": "g9HKYcDXCdrv",
        "outputId": "0f01a355-19f9-4e12-efaf-5b743c0b64d5"
      },
      "outputs": [
        {
          "data": {
            "text/plain": [
              "array([[ 6, 23],\n",
              "       [-1,  7],\n",
              "       [ 8,  9]])"
            ]
          },
          "execution_count": 148,
          "metadata": {},
          "output_type": "execute_result"
        }
      ],
      "source": [
        "y"
      ]
    },
    {
      "cell_type": "code",
      "execution_count": 149,
      "metadata": {
        "colab": {
          "base_uri": "https://localhost:8080/"
        },
        "id": "GfXxRFNHCd_4",
        "outputId": "0881bede-bfb2-4425-c0cc-d132ba536102"
      },
      "outputs": [
        {
          "data": {
            "text/plain": [
              "array([[ 28,  64],\n",
              "       [ 67, 181]])"
            ]
          },
          "execution_count": 149,
          "metadata": {},
          "output_type": "execute_result"
        }
      ],
      "source": [
        "x.dot(y)"
      ]
    },
    {
      "cell_type": "code",
      "execution_count": 150,
      "metadata": {
        "colab": {
          "base_uri": "https://localhost:8080/"
        },
        "id": "p9WB-7K9CgLI",
        "outputId": "0eec6d1e-caf2-4c75-c34d-1f6e30fcb82a"
      },
      "outputs": [
        {
          "data": {
            "text/plain": [
              "array([ 6., 15.])"
            ]
          },
          "execution_count": 150,
          "metadata": {},
          "output_type": "execute_result"
        }
      ],
      "source": [
        "np.dot(x, np.ones(3))"
      ]
    },
    {
      "cell_type": "code",
      "execution_count": 151,
      "metadata": {
        "colab": {
          "base_uri": "https://localhost:8080/"
        },
        "id": "5NNwrfB3CmSd",
        "outputId": "b1621a4e-7a13-4cc3-9b53-c790c0d1937b"
      },
      "outputs": [
        {
          "data": {
            "text/plain": [
              "array([ 6., 15.])"
            ]
          },
          "execution_count": 151,
          "metadata": {},
          "output_type": "execute_result"
        }
      ],
      "source": [
        "x @ np.ones(3)"
      ]
    },
    {
      "cell_type": "code",
      "execution_count": 152,
      "metadata": {
        "colab": {
          "base_uri": "https://localhost:8080/"
        },
        "id": "X_CYaj5YDlgR",
        "outputId": "bdcebb8f-12f1-4081-d655-8f5eb2de4651"
      },
      "outputs": [
        {
          "data": {
            "text/plain": [
              "array([[ 28,  64],\n",
              "       [ 67, 181]])"
            ]
          },
          "execution_count": 152,
          "metadata": {},
          "output_type": "execute_result"
        }
      ],
      "source": [
        "x@y"
      ]
    },
    {
      "cell_type": "code",
      "execution_count": 153,
      "metadata": {
        "id": "6Oe_yt6jDsdq"
      },
      "outputs": [],
      "source": [
        "from numpy.linalg import inv, qr"
      ]
    },
    {
      "cell_type": "code",
      "execution_count": 154,
      "metadata": {
        "colab": {
          "base_uri": "https://localhost:8080/"
        },
        "id": "AJzNpxu4D9kE",
        "outputId": "b89513dc-1423-4b76-de6e-0c79cb495716"
      },
      "outputs": [
        {
          "data": {
            "text/plain": [
              "array([[ 1.38499282, -1.17780607,  0.59438826, -0.70418088,  0.58714006],\n",
              "       [ 0.69531595, -0.80125079, -1.05907275, -0.01227899, -0.9845574 ],\n",
              "       [ 0.24754996,  0.30637575, -0.59692091,  1.37087671, -0.96346644],\n",
              "       [-1.6724927 ,  0.19632887,  1.17759857,  0.72310343,  0.91443157],\n",
              "       [-1.35831748,  1.26149197, -1.79282903, -0.04445812, -0.99860826]])"
            ]
          },
          "execution_count": 154,
          "metadata": {},
          "output_type": "execute_result"
        }
      ],
      "source": [
        "x = np.random.randn(5,5)\n",
        "x"
      ]
    },
    {
      "cell_type": "code",
      "execution_count": 155,
      "metadata": {
        "colab": {
          "base_uri": "https://localhost:8080/"
        },
        "id": "4x4WZ18IEJVE",
        "outputId": "4fac0644-ee98-47d8-824b-bffbcdbf2fd9"
      },
      "outputs": [
        {
          "data": {
            "text/plain": [
              "array([[ 7.1052086 , -4.15439732,  0.40477154, -1.79345973, -0.28285285],\n",
              "       [-4.15439732,  3.7530031 , -2.06481614,  1.34511297, -1.27804947],\n",
              "       [ 0.40477154, -2.06481614,  6.43222137, -0.29262611,  4.83398752],\n",
              "       [-1.79345973,  1.34511297, -0.29262611,  2.90017953, -1.01653229],\n",
              "       [-0.28285285, -1.27804947,  4.83398752, -1.01653229,  4.07575787]])"
            ]
          },
          "execution_count": 155,
          "metadata": {},
          "output_type": "execute_result"
        }
      ],
      "source": [
        "mat = x.T.dot(x)\n",
        "mat"
      ]
    },
    {
      "cell_type": "code",
      "execution_count": 156,
      "metadata": {
        "colab": {
          "base_uri": "https://localhost:8080/"
        },
        "id": "c7Kjz0-yEOs0",
        "outputId": "abce0124-72a8-4cbe-804e-40642bbc3f29"
      },
      "outputs": [
        {
          "data": {
            "text/plain": [
              "array([[  1.4208774 ,   0.45689457,  -4.04405744,   2.21860952,\n",
              "          5.59160904],\n",
              "       [  0.45689457,   1.35122499,   1.53193733,  -0.73068529,\n",
              "         -1.54375333],\n",
              "       [ -4.04405744,   1.53193733,  20.77554847, -10.60922155,\n",
              "        -27.08682495],\n",
              "       [  2.21860952,  -0.73068529, -10.60922155,   5.88360733,\n",
              "         13.97517012],\n",
              "       [  5.59160904,  -1.54375333, -27.08682495,  13.97517012,\n",
              "         35.76075904]])"
            ]
          },
          "execution_count": 156,
          "metadata": {},
          "output_type": "execute_result"
        }
      ],
      "source": [
        "x = inv(mat)\n",
        "x"
      ]
    },
    {
      "cell_type": "code",
      "execution_count": 157,
      "metadata": {
        "colab": {
          "base_uri": "https://localhost:8080/"
        },
        "id": "4y3105QKER4F",
        "outputId": "9c9acc90-2927-46ab-d475-44894eb29140"
      },
      "outputs": [
        {
          "data": {
            "text/plain": [
              "array([[ 1.00000000e+00, -5.55111512e-17, -1.77635684e-15,\n",
              "        -3.10862447e-15, -5.32907052e-15],\n",
              "       [ 3.55271368e-15,  1.00000000e+00,  0.00000000e+00,\n",
              "         1.06581410e-14,  7.10542736e-15],\n",
              "       [ 0.00000000e+00,  8.88178420e-16,  1.00000000e+00,\n",
              "         1.42108547e-14,  2.84217094e-14],\n",
              "       [-1.77635684e-15,  2.22044605e-16,  7.10542736e-15,\n",
              "         1.00000000e+00, -7.10542736e-15],\n",
              "       [ 0.00000000e+00,  1.77635684e-15, -1.42108547e-14,\n",
              "        -7.10542736e-15,  1.00000000e+00]])"
            ]
          },
          "execution_count": 157,
          "metadata": {},
          "output_type": "execute_result"
        }
      ],
      "source": [
        "mat @ x"
      ]
    },
    {
      "cell_type": "code",
      "execution_count": 158,
      "metadata": {
        "id": "nKOEIFpMEmNm"
      },
      "outputs": [],
      "source": [
        "q,r = qr(mat)"
      ]
    },
    {
      "cell_type": "code",
      "execution_count": 159,
      "metadata": {
        "colab": {
          "base_uri": "https://localhost:8080/"
        },
        "id": "L7w0D6PVFH1f",
        "outputId": "2f6fe62a-0739-4a46-dfe7-cf27e354c1ad"
      },
      "outputs": [
        {
          "data": {
            "text/plain": [
              "array([[-0.84202817, -0.24536865, -0.46404916, -0.03863061,  0.11810522],\n",
              "       [ 0.49233172, -0.36810674, -0.73142851,  0.29335309, -0.03260695],\n",
              "       [-0.0479689 ,  0.69242294, -0.41275868, -0.14336489, -0.57212433],\n",
              "       [ 0.21254036, -0.05262665, -0.20723199, -0.90663096,  0.29518169],\n",
              "       [ 0.03352049,  0.56751438, -0.19067222,  0.26442096,  0.75533401]])"
            ]
          },
          "execution_count": 159,
          "metadata": {},
          "output_type": "execute_result"
        }
      ],
      "source": [
        "q"
      ]
    },
    {
      "cell_type": "code",
      "execution_count": 160,
      "metadata": {
        "colab": {
          "base_uri": "https://localhost:8080/"
        },
        "id": "6FjsWXimFItX",
        "outputId": "69f17bdc-b896-46b0-fc74-51310ec8aa8b"
      },
      "outputs": [
        {
          "data": {
            "text/plain": [
              "array([[-8.43820774,  5.68793894, -1.56610734,  2.76875289, -0.70236804],\n",
              "       [ 0.        , -2.58797315,  7.87332944, -0.98723081,  6.25357356],\n",
              "       [ 0.        ,  0.        , -2.19358934, -0.43800203, -1.49568665],\n",
              "       [ 0.        ,  0.        ,  0.        , -2.39235719,  0.94231835],\n",
              "       [ 0.        ,  0.        ,  0.        ,  0.        ,  0.02112187]])"
            ]
          },
          "execution_count": 160,
          "metadata": {},
          "output_type": "execute_result"
        }
      ],
      "source": [
        "r"
      ]
    },
    {
      "cell_type": "code",
      "execution_count": 161,
      "metadata": {
        "id": "uLlcsFaEFJdX"
      },
      "outputs": [],
      "source": [
        "sample = np.random.normal(size = (4,4))"
      ]
    },
    {
      "cell_type": "code",
      "execution_count": 162,
      "metadata": {
        "colab": {
          "base_uri": "https://localhost:8080/"
        },
        "id": "2KCmHJaBG59N",
        "outputId": "4cc88ef0-30b9-4979-fe4b-a3671f02f2ae"
      },
      "outputs": [
        {
          "data": {
            "text/plain": [
              "array([[ 1.00000000e+00, -5.55111512e-17,  1.38777878e-17,\n",
              "         0.00000000e+00],\n",
              "       [ 0.00000000e+00,  1.00000000e+00, -3.46944695e-17,\n",
              "         3.46944695e-17],\n",
              "       [ 4.16333634e-17,  5.65519853e-16,  1.00000000e+00,\n",
              "        -1.18394877e-16],\n",
              "       [ 0.00000000e+00,  0.00000000e+00,  1.38777878e-17,\n",
              "         1.00000000e+00]])"
            ]
          },
          "execution_count": 162,
          "metadata": {},
          "output_type": "execute_result"
        }
      ],
      "source": [
        "sample @ (inv(sample))"
      ]
    }
  ],
  "metadata": {
    "colab": {
      "provenance": []
    },
    "kernelspec": {
      "display_name": "Python 3",
      "language": "python",
      "name": "python3"
    },
    "language_info": {
      "codemirror_mode": {
        "name": "ipython",
        "version": 3
      },
      "file_extension": ".py",
      "mimetype": "text/x-python",
      "name": "python",
      "nbconvert_exporter": "python",
      "pygments_lexer": "ipython3",
      "version": "3.12.6"
    }
  },
  "nbformat": 4,
  "nbformat_minor": 0
}
